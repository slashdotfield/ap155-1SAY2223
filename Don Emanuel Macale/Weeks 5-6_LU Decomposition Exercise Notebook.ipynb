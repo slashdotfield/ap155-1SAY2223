{
 "cells": [
  {
   "cell_type": "code",
   "execution_count": 1,
   "id": "5466f5f4",
   "metadata": {},
   "outputs": [],
   "source": [
    "import numpy as np\n",
    "import numpy.linalg as la\n",
    "import numpy.random as ra"
   ]
  },
  {
   "cell_type": "markdown",
   "id": "e1107139",
   "metadata": {},
   "source": [
    "# <center> Motivation </center>\n",
    "\n",
    "Consider the following problem,\n",
    "\\begin{equation}\n",
    "\\mathbf{A} x = c\n",
    "\\end{equation}\n",
    "where $\\mathbf{A}$ is an $N\\times N$ matrix and $x$ and $c$ are column vectors. In particular, $x$ is a column vector with unknown components. The solution of this simple matrix equation is simply\n",
    "\\begin{equation}\n",
    "x = \\mathbf{A}^{-1}c.\n",
    "\\end{equation}\n",
    "where we define\n",
    "\\begin{equation}\n",
    "\\mathbf{A} \\cdot \\mathbf{A}^{-1} = \\mathbf{A}^{-1} \\cdot \\mathbf{A} = \\mathbb{1}\n",
    "\\end{equation}\n",
    "The elegance of this solution is that most of the computation is not dependent on $c$. Once we know $\\mathbf{A}^{-1}$, then we can solve a general class of problems - we just need to plug in $c$!\n",
    "\n",
    "Naively, the computational complexity of calculating the inverse is $N^3$. There are $N^2$ unknowns, corresponding to the $N\\times N$ coefficients of $\\mathbf{A}^{-1}$, and one would need to calculate the sum of $N$ products to isolate each uknown via Gaussian elimination.\n",
    "\n",
    "After $\\mathbf{A}^{-1}$, multiplying $\\mathbf{A}^{-1}c$ involves $N^2$ operations.\n",
    "___\n",
    "\n",
    "However, there are times that computing the inverse of a matrix is unnecessary. We can skip directly to a computation that is $O(N^2)$. Suppose for example $\\mathbf{A}$ is in an upper triangular form,\n",
    "\\begin{equation}\n",
    "\\mathbf{A} = \\begin{pmatrix}\n",
    "A_{11} & A_{12} & A_{13} & \\dots & A_{1N} \\\\\n",
    "0 & A_{22} & A_{23} &\\dots & A_{2N} \\\\\n",
    "0 & 0 & A_{33} & \\ddots & \\vdots \\\\\n",
    "\\vdots & \\vdots & \\ddots & \\ddots & A_{N-1,N} \\\\\n",
    "0 & 0 & \\dots & 0 & A_{NN}\n",
    "\\end{pmatrix}\n",
    "\\end{equation}\n",
    "The last row of $\\mathbf{A} x = c$ yields an algebraic equation with a single unknown,\n",
    "\\begin{equation}\n",
    "A_{NN} x_N = c_N \\to x_N = \\dfrac{A_{NN}}{c_N}.\n",
    "\\end{equation}\n",
    "With this value known, the second to the last row is also known\n",
    "\\begin{equation}\n",
    "A_{N-1,N-1}x_{N-1} + A_{N-1,N} x_N = c_{N-1} \\to x_{N-1} = \\dfrac{1}{A_{N-1,N-1}} \\left(c_{N-1} - A_{N-1,N} x_N\\right)\n",
    "\\end{equation}\n",
    "In fact, you should be able to convince yourself of the following recursion relation\n",
    "\\begin{equation}\n",
    "x_i = \\dfrac{1}{A_{i,i}} \\left( c_i - \\sum_{k = i+1}^N A_{i,k} x_k \\right)\n",
    "\\end{equation}\n",
    "\n",
    "___\n",
    "\n",
    "Another example is a matrix in lower triangular form. Suppose $\\mathbf{A}$ is of the form\n",
    "\\begin{equation}\n",
    "\\mathbf{A} = \\begin{pmatrix}\n",
    "A_{11} & 0 & 0 & \\dots & 0 \\\\\n",
    "A_{21} & A_{22} & 0 &\\dots & 0 \\\\\n",
    "A_{31} & A_{32} & A_{33} & \\ddots & \\vdots \\\\\n",
    "\\vdots & \\vdots & \\ddots & \\ddots & 0 \\\\\n",
    "A{N1} & A_{N2} & \\dots & A_{N,N-1} & A_{NN}\n",
    "\\end{pmatrix}\n",
    "\\end{equation}\n",
    "Following the same logic as before, you should be able to convience yourself that\n",
    "\\begin{equation}\n",
    "x_i = \\dfrac{1}{A_{i,i}} \\left( c_i - \\sum_{k=1}^{i-1} A_{i,k} x_k \\right)\n",
    "\\end{equation}"
   ]
  },
  {
   "cell_type": "markdown",
   "id": "b72737f1",
   "metadata": {},
   "source": [
    "## <center> Solving a linear set of equations involving lower and upper triangular matrices </center>\n",
    "\n",
    "In the following, define two functions $\\texttt{solveU}$ and $\\texttt{solveL}$ which takes as input a upper and lower triangular matrix $\\mathbf{U}$ and $\\mathbf{L}$ respectively, and a column vector $c$, and respectively solves\n",
    "\\begin{equation}\n",
    "\\mathbf{U} x = c, \\qquad \\mathbf{L} x = c\n",
    "\\end{equation}"
   ]
  },
  {
   "cell_type": "code",
   "execution_count": 2,
   "id": "a07c386f",
   "metadata": {},
   "outputs": [],
   "source": [
    "def solveU(U, c):\n",
    "    n = np.size(c)\n",
    "    x = np.zeros(n)\n",
    "    x[-1] = c[-1] / U[-1, -1]\n",
    "    for i in range(n - 2, -1, -1):\n",
    "        x[i] = (c[i] - sum(U[i, i: ] * x[i: ])) / U[i, i]\n",
    "    return x\n",
    "\n",
    "def solveL(L, c):\n",
    "    N = len(c)\n",
    "    x = np.zeros(N)\n",
    "    for i in range(N):\n",
    "        x[i] = (1 / L[i, i]) * (c[i] - np.matmul(L[i, :i], x[ :i]))\n",
    "    return x"
   ]
  },
  {
   "cell_type": "markdown",
   "id": "255898ec",
   "metadata": {},
   "source": [
    "Your code should be able to run the following"
   ]
  },
  {
   "cell_type": "code",
   "execution_count": 3,
   "id": "169d6846",
   "metadata": {},
   "outputs": [],
   "source": [
    "N = 20\n",
    "epsilon = 1E-6\n",
    "detbound = -20\n",
    "tests = 10\n",
    "\n",
    "for _ in range(tests):\n",
    "    \n",
    "    # selects a random nonsingular matrix\n",
    "    # do not use N too high, because\n",
    "    # random nonsingular matrices\n",
    "    # become rarer and rarer\n",
    "    while True:\n",
    "        A = ra.rand(N,N)\n",
    "        U = np.triu(A)\n",
    "        if np.log10(la.det(U)) > detbound:\n",
    "            break\n",
    "    \n",
    "    c = ra.rand(N)\n",
    "    xU = solveU(U,c)\n",
    "    errorU = np.dot(U,xU) - c\n",
    "    \n",
    "    assert abs(np.dot(errorU, errorU)) < epsilon"
   ]
  },
  {
   "cell_type": "code",
   "execution_count": 4,
   "id": "99d20242",
   "metadata": {},
   "outputs": [],
   "source": [
    "N = 20\n",
    "epsilon = 1E-6\n",
    "detbound = -20\n",
    "tests = 10\n",
    "\n",
    "for _ in range(tests):\n",
    "    \n",
    "    # selects a random nonsingular matrix\n",
    "    # do not use N too high, because\n",
    "    # random nonsingular matrices\n",
    "    # become rarer and rarer\n",
    "    while True:\n",
    "        A = ra.rand(N,N)\n",
    "        L = np.tril(A)\n",
    "        if np.log10(la.det(L)) > detbound:\n",
    "            break\n",
    "    \n",
    "    c = ra.rand(N)\n",
    "    xL = solveL(L,c)\n",
    "    \n",
    "    errorL = np.dot(L,xL) - c\n",
    "    \n",
    "    assert abs(np.dot(errorL, errorL)) < epsilon"
   ]
  },
  {
   "cell_type": "markdown",
   "id": "21c059b5",
   "metadata": {},
   "source": [
    "We want the two functions to assume that the inputted matrices are upper and lower triangular matrices, even though they may not be. This is useful later on, when the zeros may actually be floating points which are small - essentially coming from floating point arithmetic"
   ]
  },
  {
   "cell_type": "code",
   "execution_count": 5,
   "id": "3e5ba94d",
   "metadata": {},
   "outputs": [],
   "source": [
    "N = 20\n",
    "epsilon = 1E-6\n",
    "detbound = -20\n",
    "tests = 10\n",
    "\n",
    "for _ in range(tests):\n",
    "    \n",
    "    # selects a random nonsingular matrix\n",
    "    # do not use N too high, because\n",
    "    # random nonsingular matrices\n",
    "    # become rarer and rarer\n",
    "    while True:\n",
    "        A = ra.rand(N,N)\n",
    "        U = np.triu(A)\n",
    "        if np.log10(la.det(U)) > detbound:\n",
    "            break\n",
    "    \n",
    "    c = ra.rand(N)\n",
    "    xU1 = solveU(U,c)\n",
    "    xU2 = solveU(A,c)\n",
    "    errorU = xU1-xU2\n",
    "    \n",
    "    assert abs(np.dot(errorU, errorU)) < epsilon"
   ]
  },
  {
   "cell_type": "code",
   "execution_count": 6,
   "id": "fb1ae008",
   "metadata": {},
   "outputs": [],
   "source": [
    "N = 20\n",
    "epsilon = 1E-6\n",
    "detbound = -20\n",
    "tests = 10\n",
    "\n",
    "for _ in range(tests):\n",
    "    \n",
    "    # selects a random nonsingular matrix\n",
    "    # do not use N too high, because\n",
    "    # random nonsingular matrices\n",
    "    # become rarer and rarer\n",
    "    while True:\n",
    "        A = ra.rand(N,N)\n",
    "        L = np.tril(A)\n",
    "        if np.log10(la.det(L)) > detbound:\n",
    "            break\n",
    "    \n",
    "    c = ra.rand(N)\n",
    "    xL1 = solveL(L,c)\n",
    "    xL2 = solveL(A,c)\n",
    "    errorU = xL1-xL2\n",
    "    \n",
    "    assert abs(np.dot(errorL, errorL)) < epsilon"
   ]
  },
  {
   "cell_type": "markdown",
   "id": "3f413127",
   "metadata": {},
   "source": [
    "# <center> LU decomposition </center>\n",
    "\n",
    "There's just one problem: almost all nonsingular matrices $\\mathbf{A}$ are neither in upper triangular form and lower triangular form. What the LU decomposition lets us do is follow a deterministic process of factor $\\mathbf{A}$ into a product of lower and upper triangular matrices $\\mathbf{L}$ and $\\mathbf{U}$ respectively.\n",
    "\n",
    "That is, if we can find a factorization of $\\mathbf{A}$ into $\\mathbf{L} \\mathbf{U}$, then the linear problem\n",
    "\\begin{equation}\n",
    "\\mathbf{A} x = c\n",
    "\\end{equation}\n",
    "May be translated into\n",
    "\\begin{equation}\n",
    "\\mathbf{L} \\mathbf{U} x = c\n",
    "\\end{equation}\n",
    "Now if we define a new vector $v$ which satisfies\n",
    "\\begin{equation}\n",
    "\\mathbf{L} v = c\n",
    "\\end{equation}\n",
    "The above equations reduces to two problems involving upper and lower triangular matrices.\n",
    "\\begin{equation}\n",
    "\\mathbf{U} x = v, \\qquad \\mathbf{L} v = c\n",
    "\\end{equation}\n",
    "This we already know how to do!\n",
    "\n",
    "___\n",
    "\n",
    "The factorization of $\\mathbf{A}$ into $\\mathbf{L} \\mathbf{U}$ proceeds by abusing the identity matrix and associativity. That is, we select a factorization of the identity matrix\n",
    "\\begin{equation}\n",
    "\\ell^{-1}_1 \\ell_1 = \\mathbb{1}\n",
    "\\end{equation}\n",
    "such that applying the associative identity on \n",
    "\\begin{equation}\n",
    "\\mathbb{1} \\mathbf{A} = (\\ell^{-1}_1 \\ell_1) \\mathbf{A} = \\ell^{-1}_1 (\\ell_1 \\mathbf{A})\n",
    "\\end{equation}\n",
    "makes the matrix $\\ell_1 \\mathbf{A}$ approach an upper triangular matrix and $\\ell^{-1}_1$ approaches a lower triangular matrix. Then we do the process again\n",
    "\\begin{equation}\n",
    "\\ell^{-1}_1 \\mathbb{1} (\\ell_1 \\mathbf{A}) = (\\ell^{-1}_1 \\ell^{-1}_2) (\\ell_2 (\\ell_1 \\mathbf{A}))\n",
    "\\end{equation}\n",
    "It's useful now to define a sequence of partially triangularized matrices $L^{(n)}$ and $U^{(n)}$, such that\n",
    "\\begin{equation}\n",
    "L^{(n)} = L^{(n-1)} \\ell^{-1}_n, \\qquad U^{(n)} = \\ell_n U^{(n-1)}\n",
    "\\end{equation}\n",
    "and define\n",
    "\\begin{equation}\n",
    "L^{(0)} = \\mathbb{1}, \\qquad U^{(0)} = A.\n",
    "\\end{equation}\n",
    "Note the order of operations. Matrix products are associative, not commutative.\n",
    "\n",
    "All that remains is to define the factorization of $\\mathbb{1}$ such that this sequence of matrices terminates with an upper and lower triangular matrix."
   ]
  },
  {
   "cell_type": "markdown",
   "id": "237d2214",
   "metadata": {},
   "source": [
    "## <center> Calculating $\\ell_n$ and $U^{(n)}$ </center>\n",
    "\n",
    "There is an infinite number of ways to create this sequence - most less optimal than others. Here is one: let $\\ell_1$ be defined so that it has the most number of 0 possible (sparse to the max) and $U^{(1)}$ be a matrix with its first column looking like its from an upper triangular matrix. If you think hard enough, you might convince yourself that this is the optimal $\\ell_1$,\n",
    "\\begin{equation}\n",
    "\\ell_1 = \\mathbb{1} + [v^{(1)}, 0, 0, \\dots 0]\n",
    "\\end{equation}\n",
    "where\n",
    "\\begin{equation}\n",
    "v^{(1)} = \\left[0, -\\dfrac{U^{(0)}_{2,1}}{U^{(0)}_{1,1}}, - \\dfrac{U^{(0)}_{3,1}}{U^{(0)}_{1,1}}, \\dots, \\dfrac{U^{(0)}_{N,1}}{U^{(0)}_{1,1}} \\right] ^T\n",
    "\\end{equation}\n",
    "Just to be clear,\n",
    "\\begin{equation}\n",
    "\\ell_1 = \\begin{pmatrix}\n",
    "1 & 0 & 0 & \\dots & 0 \\\\\n",
    "-\\dfrac{U^{(0)}_{2,1}}{U^{(0)}_{1,1}} & 1 & 0 & \\dots & 0 \\\\\n",
    "- \\dfrac{U^{(0)}_{3,1}}{U^{(0)}_{1,1}} & 0 & 1 & \\ddots & \\vdots \\\\\n",
    "\\vdots & \\vdots & \\ddots & \\ddots & 0 \\\\\n",
    "\\dfrac{U^{(0)}_{N,1}}{U^{(0)}_{1,1}} & 0 & \\dots & 0 & 1\n",
    "\\end{pmatrix}\n",
    "\\end{equation}\n",
    "Then\n",
    "\\begin{equation}\n",
    "\\ell_1 A = \\ell_1 U^{(0)} = U^{(1)} = \\begin{pmatrix}\n",
    "U^{(1)}_{1,1} & U^{(1)}_{1,2} & U^{(1)}_{1,3} & \\dots & U^{(1)}_{1,N} \\\\\n",
    "0 & U^{(1)}_{2,2} & U^{(1)}_{2,3} & \\dots & U^{(1)}_{2,N} \\\\\n",
    "0 & U^{(1)}_{3,2} & U^{(1)}_{3,3} & \\dots & U^{(1)}_{3,N} \\\\\n",
    "\\vdots & \\vdots & \\vdots & \\ddots & \\vdots \\\\\n",
    "0 & U^{(1)}_{N,2} & U^{(1)}_{N,3} & \\dots & U^{(1)}_{N,N}\n",
    "\\end{pmatrix}\n",
    "\\end{equation}\n",
    "Then, we do the same thing, defining a sparse-as-possible $\\ell_2$ which forces the first two columns of $U^{(2)}$ to look like it comes from a upper triangular matrix.\n",
    "\\begin{equation}\n",
    "\\ell_2 = \\mathbb{1} + [0, v_2, 0, \\dots, 0]\n",
    "\\end{equation}\n",
    "where\n",
    "\\begin{equation}\n",
    "v^{(2)} = \\left[0, 0, -\\dfrac{U^{(1)}_{3,2}}{U^{(1)}_{2,2}}, -\\dfrac{U^{(1)}_{4,2}}{U^{(1)}_{2,2}}, \\dots, -\\dfrac{U^{(1)}_{N,2}}{U^{(1)}_{2,2}} \\right]^T\n",
    "\\end{equation}\n",
    "___\n",
    "\n",
    "In general,\n",
    "\\begin{equation}\n",
    "\\ell_n = \\mathbb{1} + [0, 0, \\dots, v^{(n)}, \\dots, 0],\n",
    "\\end{equation}\n",
    "where $v_n$ is located on the $n$th column and\n",
    "\\begin{equation}\n",
    "v^{(n)}_k = \\left\\lbrace \\begin{matrix}\n",
    "0, & k \\leq n \\\\\n",
    "- \\dfrac{U^{(n-1)}_{k,n}}{U^{(n-1)}_{n,n}}, & k > n\n",
    "\\end{matrix}\\right.\n",
    "\\end{equation}\n",
    "and\n",
    "\\begin{equation}\n",
    "U^{(n)} = \\ell_n U^{(n-1)}\n",
    "\\end{equation}"
   ]
  },
  {
   "cell_type": "markdown",
   "id": "cc493919",
   "metadata": {},
   "source": [
    "In the following code, let $\\texttt{getvn}$ be a function whose inputs is a matrix and an order index $n$, which outputs the column vector above."
   ]
  },
  {
   "cell_type": "code",
   "execution_count": 5,
   "id": "109f8c00",
   "metadata": {},
   "outputs": [],
   "source": [
    "def getvn(U, n):\n",
    "    N = len(U)\n",
    "    v = np.zeros(N)\n",
    "    for k in range(n, N):\n",
    "        v[k] = -U[k, n - 1] / U[n - 1, n - 1]\n",
    "    return v"
   ]
  },
  {
   "cell_type": "markdown",
   "id": "4169278a",
   "metadata": {},
   "source": [
    "The function should pass the following test"
   ]
  },
  {
   "cell_type": "code",
   "execution_count": 6,
   "id": "2b604914",
   "metadata": {},
   "outputs": [
    {
     "name": "stdout",
     "output_type": "stream",
     "text": [
      "[[ 1  2  3  4]\n",
      " [ 5  6  7  8]\n",
      " [ 9 10 11 12]\n",
      " [13 14 15 16]]\n"
     ]
    }
   ],
   "source": [
    "testmatrix = np.array([[1,2,3,4],[5,6,7,8],[9,10,11,12],[13,14,15,16]])\n",
    "print(testmatrix)\n",
    "\n",
    "error = 1E-6\n",
    "\n",
    "assert max(abs(getvn(testmatrix,1)-[0,-5,-9,-13])) < error\n",
    "assert max(abs(getvn(testmatrix,2)-[0,0,-10/6,-14/6])) < error\n",
    "assert max(abs(getvn(testmatrix,3)-[0,0,0,-15/11])) < error"
   ]
  },
  {
   "cell_type": "markdown",
   "id": "249ea2b2",
   "metadata": {},
   "source": [
    "The next function $\\texttt{getelln}$ takes in an arbitrary matrix $U$ and an order index $n$, which return $\\ell_n$. Useful functions here are $\\texttt{np.identity(n)}$ which produces a $n\\times n$ identity matrix."
   ]
  },
  {
   "cell_type": "code",
   "execution_count": 7,
   "id": "6a672f4e",
   "metadata": {},
   "outputs": [],
   "source": [
    "def getelln(U, n):\n",
    "    N = len(U)\n",
    "    vn = getvn(U, n)\n",
    "    elln = np.zeros((N, N))\n",
    "    elln[:, n - 1] = vn\n",
    "    elln += np.identity(N)\n",
    "    return elln"
   ]
  },
  {
   "cell_type": "markdown",
   "id": "cbb70a2e",
   "metadata": {},
   "source": [
    "The function should pass the following test"
   ]
  },
  {
   "cell_type": "code",
   "execution_count": 8,
   "id": "2c512ebb",
   "metadata": {},
   "outputs": [
    {
     "name": "stdout",
     "output_type": "stream",
     "text": [
      "[[ 1  2  3  4]\n",
      " [ 5  6  7  8]\n",
      " [ 9 10 11 12]\n",
      " [13 14 15 16]]\n"
     ]
    }
   ],
   "source": [
    "testmatrix = np.array([[1,2,3,4],[5,6,7,8],[9,10,11,12],[13,14,15,16]])\n",
    "print(testmatrix)\n",
    "\n",
    "error = 1E-6\n",
    "\n",
    "assert max(abs(getelln(testmatrix,1)[:,0]-[1,-5,-9,-13])) < error\n",
    "assert max(abs(getelln(testmatrix,2)[:,1]-[0,1,-10/6,-14/6])) < error\n",
    "assert max(abs(getelln(testmatrix,3)[:,2]-[0,0,1,-15/11])) < error"
   ]
  },
  {
   "cell_type": "markdown",
   "id": "6f9d4e09",
   "metadata": {},
   "source": [
    "Now modify the previous code into a function $\\texttt{updateU}$, whose input is a matrix $U$ and an order index $n$, which outputs the pair $v^{(n)}$ and $\\ell_n U$"
   ]
  },
  {
   "cell_type": "code",
   "execution_count": 9,
   "id": "24e35235",
   "metadata": {},
   "outputs": [],
   "source": [
    "def updateU(U, n):\n",
    "    vn = getvn(U, n)\n",
    "    elln = getelln(U, n)\n",
    "    Unew = np.matmul(elln, U)\n",
    "    return vn, Unew"
   ]
  },
  {
   "cell_type": "markdown",
   "id": "2a6dc813",
   "metadata": {},
   "source": [
    "The following code should show if $\\texttt{updateU}$ results in an upper triangular matrix when applied thrice on a $4 \\times 4$ matrix."
   ]
  },
  {
   "cell_type": "code",
   "execution_count": 10,
   "id": "7c6c34dc",
   "metadata": {},
   "outputs": [
    {
     "name": "stdout",
     "output_type": "stream",
     "text": [
      "[[0.72457194 0.69591637 0.93831619 0.85291926]\n",
      " [0.65016648 0.95771851 0.44466839 0.54258952]\n",
      " [0.08447921 0.47586543 0.01501006 0.65923845]\n",
      " [0.44510926 0.81904775 0.72111244 0.25828835]]\n",
      "[[ 0.72457194  0.69591637  0.93831619  0.85291926]\n",
      " [ 0.          0.33326499 -0.39729318 -0.22274444]\n",
      " [ 0.          0.39472722 -0.09439     0.55979499]\n",
      " [ 0.          0.39154179  0.14469871 -0.2656655 ]]\n",
      "[[ 7.24571941e-01  6.95916375e-01  9.38316185e-01  8.52919258e-01]\n",
      " [ 0.00000000e+00  3.33264992e-01 -3.97293180e-01 -2.22744436e-01]\n",
      " [ 0.00000000e+00 -5.55111512e-17  3.76173782e-01  8.23618956e-01]\n",
      " [ 0.00000000e+00  0.00000000e+00  6.11465052e-01 -3.97057709e-03]]\n",
      "[[ 7.24571941e-01  6.95916375e-01  9.38316185e-01  8.52919258e-01]\n",
      " [ 0.00000000e+00  3.33264992e-01 -3.97293180e-01 -2.22744436e-01]\n",
      " [ 0.00000000e+00 -5.55111512e-17  3.76173782e-01  8.23618956e-01]\n",
      " [ 0.00000000e+00  9.02325749e-17  0.00000000e+00 -1.34275130e+00]]\n"
     ]
    }
   ],
   "source": [
    "U0 = ra.rand(4,4)\n",
    "print(U0)\n",
    "v1, U1 = updateU(U0,1)\n",
    "print(U1)\n",
    "v2, U2 = updateU(U1,2)\n",
    "print(U2)\n",
    "v3, U3 = updateU(U2,3)\n",
    "print(U3)"
   ]
  },
  {
   "cell_type": "markdown",
   "id": "248737ba",
   "metadata": {},
   "source": [
    "## <center> Calculating $L^{(n)}$ </center>\n",
    "\n",
    "One thing we've left out is how $L^{(n)}$ is calculated. Let us recall the recursion,\n",
    "\\begin{equation}\n",
    "L^{(n)} = L^{(n-1)} \\ell^{-1}_n.\n",
    "\\end{equation}\n",
    "What is nice about the our definition of $\\ell_n$ is that\n",
    "\\begin{equation}\n",
    "\\ell^{-1}_n = \\mathbb{1} + [0, 0, \\dots, -v^{(n)}, \\dots, 0]\n",
    "\\end{equation}\n",
    "Even more convenient (and you should check this) is that\n",
    "\\begin{equation}\n",
    "L^{(n)} = \\mathbb{1} + [-v^{(1)}, -v^{(2)}, \\dots, - v^{(n-1)}, - v^{(n)}, 0 \\dots, 0]\n",
    "\\end{equation}\n",
    "In fact our final $L = L^{(N-1)}$ is simply\n",
    "\\begin{equation}\n",
    "L = \\mathbb{1} + [-v^{(1)}, -v^{(2)}, \\dots, - v^{(N-2)}, - v^{(N-1)}, 0]\n",
    "\\end{equation}"
   ]
  },
  {
   "cell_type": "markdown",
   "id": "db2a661f",
   "metadata": {},
   "source": [
    "## <center> Solving linear sets of equations </center>\n",
    "\n",
    "Now it's finally time to combine everything we know. First, let us define a function $\\texttt{getLU}$, whose input is an arbitrary function $\\mathbf{A}$ and whose output are two matrices $\\mathbf{L}$ and $\\mathbf{U}$ which are the LU factorization of $\\mathbf{A}$.\n",
    "\n",
    "Note that for an $N\\times N$ matrix, one needs to use $\\texttt{updateU}$ $N-1$ times. Also, one can use the vectors outputted by $\\texttt{updateU}$ to construct $\\mathbf{L}$.\n",
    "\n",
    "A useful function here is $\\texttt{np.copy}$, which lets you copy the values of a matrix, so that mutations on a copied matrix does not affect the original matrix."
   ]
  },
  {
   "cell_type": "code",
   "execution_count": 11,
   "id": "0909fbb4",
   "metadata": {},
   "outputs": [],
   "source": [
    "def getLU(A):\n",
    "    N = len(A)\n",
    "    L = np.zeros((N, N))\n",
    "    U = np.copy(A)\n",
    "    for i in range(N - 1):\n",
    "        vi, U = updateU(U, i + 1)\n",
    "        L[:, i] = -vi\n",
    "    L += np.identity(N)\n",
    "    return L, U"
   ]
  },
  {
   "cell_type": "markdown",
   "id": "7cbd1f93",
   "metadata": {},
   "source": [
    "If the factorization is correct, then $\\mathbf{L} \\mathbf{U} = A$"
   ]
  },
  {
   "cell_type": "code",
   "execution_count": 12,
   "id": "8033335d",
   "metadata": {},
   "outputs": [],
   "source": [
    "N = 20\n",
    "A = ra.rand(N,N)\n",
    "L,U = getLU(A)\n",
    "\n",
    "assert la.norm(np.dot(L,U) - A) < 1E-6"
   ]
  },
  {
   "cell_type": "markdown",
   "id": "efed844d",
   "metadata": {},
   "source": [
    "Now let's combine everything finally. Given a matrix $\\mathbf{A}$ and a constant column vector $c$, we solve for an unknown set of coefficients $x$ constrained by the following set of linear algebraic equations:\n",
    "\\begin{equation}\n",
    "\\mathbf{A} x = c\n",
    "\\end{equation}\n",
    "We first factorize $\\mathbf{A}$ into $\\mathbf{L} \\mathbf{U}$ and first solve a intermediate set of coefficients $v$\n",
    "\\begin{equation}\n",
    "\\mathbf{L}v = c\n",
    "\\end{equation}\n",
    "using $\\texttt{solveL}$ and then finally $x$\n",
    "\\begin{equation}\n",
    "\\mathbf{U}x = v\n",
    "\\end{equation}\n",
    "using $\\texttt{solveU}$.\n",
    "\n",
    "Kindly implement this in the following function $\\texttt{solveAxc}$, whose inputs are $\\mathbf{A}$ and $c$ and whose output is the solution $x$"
   ]
  },
  {
   "cell_type": "code",
   "execution_count": 13,
   "id": "3109cce9",
   "metadata": {},
   "outputs": [],
   "source": [
    "def solveAxc(A,c):\n",
    "    L, U = getLU(A)\n",
    "    v = solveL(L, c)\n",
    "    x = solveU(U, v)\n",
    "    return x"
   ]
  },
  {
   "cell_type": "markdown",
   "id": "f9a2639c",
   "metadata": {},
   "source": [
    "Your solution should pass the following unit test."
   ]
  },
  {
   "cell_type": "code",
   "execution_count": 14,
   "id": "4295d40f",
   "metadata": {},
   "outputs": [],
   "source": [
    "N = 20\n",
    "A = ra.rand(N,N)\n",
    "c = ra.rand(N)\n",
    "x = solveAxc(A,c)\n",
    "\n",
    "assert la.norm(np.dot(A,x) - c)<1E-6"
   ]
  },
  {
   "cell_type": "code",
   "execution_count": null,
   "id": "fff65a91",
   "metadata": {},
   "outputs": [],
   "source": []
  }
 ],
 "metadata": {
  "kernelspec": {
   "display_name": "Python 3 (ipykernel)",
   "language": "python",
   "name": "python3"
  },
  "language_info": {
   "codemirror_mode": {
    "name": "ipython",
    "version": 3
   },
   "file_extension": ".py",
   "mimetype": "text/x-python",
   "name": "python",
   "nbconvert_exporter": "python",
   "pygments_lexer": "ipython3",
   "version": "3.9.12"
  }
 },
 "nbformat": 4,
 "nbformat_minor": 5
}
