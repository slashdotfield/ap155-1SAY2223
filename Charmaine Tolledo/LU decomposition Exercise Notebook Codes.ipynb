{
 "cells": [
  {
   "cell_type": "code",
   "execution_count": 1,
   "id": "03dc6b06",
   "metadata": {},
   "outputs": [],
   "source": [
    "import numpy as np\n",
    "import numpy.linalg as la\n",
    "import numpy.random as ra"
   ]
  },
  {
   "cell_type": "markdown",
   "id": "7e87895c",
   "metadata": {},
   "source": [
    "## <center> Solving a linear set of equations involving lower and upper triangular matrices </center>\n",
    "\n",
    "In the following, define two functions $\\texttt{solveU}$ and $\\texttt{solveL}$ which takes as input a upper and lower triangular matrix $\\mathbf{U}$ and $\\mathbf{L}$ respectively, and a column vector $c$, and respectively solves\n",
    "\\begin{equation}\n",
    "\\mathbf{U} x = c, \\qquad \\mathbf{L} x = c\n",
    "\\end{equation}"
   ]
  },
  {
   "cell_type": "code",
   "execution_count": 2,
   "id": "72b2473a",
   "metadata": {},
   "outputs": [],
   "source": [
    "def solveU(U,c):\n",
    "    \n",
    "    N = len(c)\n",
    "    x = np.zeros(N)\n",
    "    for i in range(N):\n",
    "        x[(N-1)-i] = (1/U[(N-1)-i, (N-1)-i])*(c[(N-1)-i] - np.dot(U[(N-1)-i, N-i:],x[N-i:]))\n",
    "                                                                     \n",
    "    return x\n",
    "\n",
    "def solveL(L,c):\n",
    "   \n",
    "    N = len(c)\n",
    "    x = np.zeros(N)\n",
    "    for i in range(N):\n",
    "        x[i] = (1/L[i,i])*(c[i]-np.dot(L[i,:i],x[:i]))\n",
    "                \n",
    "    return x"
   ]
  },
  {
   "cell_type": "markdown",
   "id": "a0019e5b",
   "metadata": {},
   "source": [
    "Your code should be able to run the following"
   ]
  },
  {
   "cell_type": "code",
   "execution_count": 3,
   "id": "cd5669ef",
   "metadata": {},
   "outputs": [],
   "source": [
    "N = 20\n",
    "epsilon = 1E-6\n",
    "detbound = -20\n",
    "tests = 10\n",
    "\n",
    "for _ in range(tests):\n",
    "    \n",
    "    # selects a random nonsingular matrix\n",
    "    # do not use N too high, because\n",
    "    # random nonsingular matrices\n",
    "    # become rarer and rarer\n",
    "    while True:\n",
    "        A = ra.rand(N,N)\n",
    "        U = np.triu(A)\n",
    "        if np.log10(la.det(U)) > detbound:\n",
    "            break\n",
    "    \n",
    "    c = ra.rand(N)\n",
    "    xU = solveU(U,c)\n",
    "    errorU = np.dot(U,xU) - c\n",
    "    \n",
    "    assert abs(np.dot(errorU, errorU)) < epsilon"
   ]
  },
  {
   "cell_type": "code",
   "execution_count": 4,
   "id": "8456e363",
   "metadata": {},
   "outputs": [],
   "source": [
    "N = 20\n",
    "epsilon = 1E-6\n",
    "detbound = -20\n",
    "tests = 10\n",
    "\n",
    "for _ in range(tests):\n",
    "    \n",
    "    # selects a random nonsingular matrix\n",
    "    # do not use N too high, because\n",
    "    # random nonsingular matrices\n",
    "    # become rarer and rarer\n",
    "    while True:\n",
    "        A = ra.rand(N,N)\n",
    "        L = np.tril(A)\n",
    "        if np.log10(la.det(L)) > detbound:\n",
    "            break\n",
    "    \n",
    "    c = ra.rand(N)\n",
    "    xL = solveL(L,c)\n",
    "    \n",
    "    errorL = np.dot(L,xL) - c\n",
    "    \n",
    "    assert abs(np.dot(errorL, errorL))< epsilon"
   ]
  },
  {
   "cell_type": "markdown",
   "id": "47c24fed",
   "metadata": {},
   "source": [
    "We want the two functions to assume that the inputted matrices are upper and lower triangular matrices, even though they may not be. This is useful later on, when the zeros may actually be floating points which are small - essentially coming from floating point arithmetic"
   ]
  },
  {
   "cell_type": "code",
   "execution_count": 5,
   "id": "64149852",
   "metadata": {},
   "outputs": [],
   "source": [
    "N = 20\n",
    "epsilon = 1E-6\n",
    "detbound = -20\n",
    "tests = 10\n",
    "\n",
    "for _ in range(tests):\n",
    "    \n",
    "    # selects a random nonsingular matrix\n",
    "    # do not use N too high, because\n",
    "    # random nonsingular matrices\n",
    "    # become rarer and rarer\n",
    "    while True:\n",
    "        A = ra.rand(N,N)\n",
    "        U = np.triu(A)\n",
    "        if np.log10(la.det(U)) > detbound:\n",
    "            break\n",
    "    \n",
    "    c = ra.rand(N)\n",
    "    xU1 = solveU(U,c)\n",
    "    xU2 = solveU(A,c)\n",
    "    errorU = xU1-xU2\n",
    "    \n",
    "    assert abs(np.dot(errorU, errorU)) < epsilon"
   ]
  },
  {
   "cell_type": "code",
   "execution_count": 6,
   "id": "192ff3a7",
   "metadata": {},
   "outputs": [],
   "source": [
    "N = 20\n",
    "epsilon = 1E-6\n",
    "detbound = -20\n",
    "tests = 10\n",
    "\n",
    "for _ in range(tests):\n",
    "    \n",
    "    # selects a random nonsingular matrix\n",
    "    # do not use N too high, because\n",
    "    # random nonsingular matrices\n",
    "    # become rarer and rarer\n",
    "    while True:\n",
    "        A = ra.rand(N,N)\n",
    "        L = np.tril(A)\n",
    "        if np.log10(la.det(L)) > detbound:\n",
    "            break\n",
    "    \n",
    "    c = ra.rand(N)\n",
    "    xL1 = solveL(L,c)\n",
    "    xL2 = solveL(A,c)\n",
    "    errorU = xL1-xL2\n",
    "    \n",
    "    assert abs(np.dot(errorL, errorL)) < epsilon"
   ]
  },
  {
   "cell_type": "markdown",
   "id": "08a5b967",
   "metadata": {},
   "source": [
    "# <center> LU decomposition and Calculating $\\ell_n$ and $U^{(n)}$ </center> "
   ]
  },
  {
   "cell_type": "markdown",
   "id": "7bf13af1",
   "metadata": {},
   "source": [
    "In the following code, let $\\texttt{getvn}$ be a function whose inputs is a matrix and an order index $n$, which outputs the column vector above."
   ]
  },
  {
   "cell_type": "code",
   "execution_count": 7,
   "id": "6572bb42",
   "metadata": {},
   "outputs": [],
   "source": [
    "def getvn(U,n):\n",
    " \n",
    "    N = len(U)\n",
    "    v = np.zeros(N)\n",
    "    for k in range(n,N):\n",
    "        v[k] = -U[k,n-1]/U[n-1,n-1]\n",
    "    return v"
   ]
  },
  {
   "cell_type": "markdown",
   "id": "42c6cbdf",
   "metadata": {},
   "source": [
    "The function should pass the following test"
   ]
  },
  {
   "cell_type": "code",
   "execution_count": 8,
   "id": "aa4ee591",
   "metadata": {},
   "outputs": [
    {
     "name": "stdout",
     "output_type": "stream",
     "text": [
      "[[ 1  2  3  4]\n",
      " [ 5  6  7  8]\n",
      " [ 9 10 11 12]\n",
      " [13 14 15 16]]\n"
     ]
    }
   ],
   "source": [
    "testmatrix = np.array([[1,2,3,4],[5,6,7,8],[9,10,11,12],[13,14,15,16]])\n",
    "print(testmatrix)\n",
    "\n",
    "error = 1E-6\n",
    "\n",
    "assert max(abs(getvn(testmatrix,1)-[0,-5,-9,-13])) < error\n",
    "assert max(abs(getvn(testmatrix,2)-[0,0,-10/6,-14/6])) < error\n",
    "assert max(abs(getvn(testmatrix,3)-[0,0,0,-15/11])) < error"
   ]
  },
  {
   "cell_type": "markdown",
   "id": "7bd8cfb6",
   "metadata": {},
   "source": [
    "The next function $\\texttt{getelln}$ takes in an arbitrary matrix $U$ and an order index $n$, which return $\\ell_n$. Useful functions here are $\\texttt{np.identity(n)}$ which produces a $n\\times n$ identity matrix."
   ]
  },
  {
   "cell_type": "code",
   "execution_count": 9,
   "id": "024ac78b",
   "metadata": {},
   "outputs": [],
   "source": [
    "def getelln(U,n):\n",
    "    \n",
    "    N = len(U)\n",
    "    vn = getvn(U,n)\n",
    "    elln = np.zeros((N,N))\n",
    "    elln[:,n-1] = vn\n",
    "    elln += np.identity(N)\n",
    "    return elln"
   ]
  },
  {
   "cell_type": "markdown",
   "id": "15cf5497",
   "metadata": {},
   "source": [
    "The function should pass the following test"
   ]
  },
  {
   "cell_type": "code",
   "execution_count": 10,
   "id": "ab0dc56f",
   "metadata": {},
   "outputs": [
    {
     "name": "stdout",
     "output_type": "stream",
     "text": [
      "[[ 1  2  3  4]\n",
      " [ 5  6  7  8]\n",
      " [ 9 10 11 12]\n",
      " [13 14 15 16]]\n"
     ]
    }
   ],
   "source": [
    "testmatrix = np.array([[1,2,3,4],[5,6,7,8],[9,10,11,12],[13,14,15,16]])\n",
    "print(testmatrix)\n",
    "\n",
    "error = 1E-6\n",
    "\n",
    "assert max(abs(getelln(testmatrix,1)[:,0]-[1,-5,-9,-13])) < error\n",
    "assert max(abs(getelln(testmatrix,2)[:,1]-[0,1,-10/6,-14/6])) < error\n",
    "assert max(abs(getelln(testmatrix,3)[:,2]-[0,0,1,-15/11])) < error"
   ]
  },
  {
   "cell_type": "markdown",
   "id": "7f48f216",
   "metadata": {},
   "source": [
    "Now modify the previous code into a function $\\texttt{updateU}$, whose input is a matrix $U$ and an order index $n$, which outputs the pair $v^{(n)}$ and $\\ell_n U$"
   ]
  },
  {
   "cell_type": "code",
   "execution_count": 11,
   "id": "8c2b2862",
   "metadata": {},
   "outputs": [],
   "source": [
    "def updateU(U,n):\n",
    "   \n",
    "    N = len(U)\n",
    "    vn = getvn(U,n)\n",
    "    elln = np.zeros((N,N))\n",
    "    elln[:,n-1] = vn\n",
    "    elln += np.identity(N)\n",
    "    Unew = np.dot(elln,U)\n",
    "    return vn, Unew"
   ]
  },
  {
   "cell_type": "markdown",
   "id": "9ffdf249",
   "metadata": {},
   "source": [
    "The following code should show if $\\texttt{updateU}$ results in an upper triangular matrix when applied thrice on a $4 \\times 4$ matrix."
   ]
  },
  {
   "cell_type": "code",
   "execution_count": 12,
   "id": "046700f2",
   "metadata": {},
   "outputs": [
    {
     "name": "stdout",
     "output_type": "stream",
     "text": [
      "[[0.27782358 0.81415896 0.41044915 0.2509971 ]\n",
      " [0.7949096  0.74916761 0.25984197 0.76235175]\n",
      " [0.63645968 0.5426904  0.68778963 0.83183843]\n",
      " [0.9457129  0.78074046 0.48282842 0.01241005]]\n",
      "[[ 0.27782358  0.81415896  0.41044915  0.2509971 ]\n",
      " [ 0.         -1.5803063  -0.91453629  0.04419813]\n",
      " [ 0.         -1.32244775 -0.25249895  0.2568349 ]\n",
      " [ 0.         -1.99066087 -0.91434263 -0.8419854 ]]\n",
      "[[ 2.77823575e-01  8.14158957e-01  4.10449151e-01  2.50997104e-01]\n",
      " [ 0.00000000e+00 -1.58030630e+00 -9.14536295e-01  4.41981294e-02]\n",
      " [ 0.00000000e+00  0.00000000e+00  5.12812471e-01  2.19848574e-01]\n",
      " [ 0.00000000e+00  2.22044605e-16  2.37669243e-01 -8.97660353e-01]]\n",
      "[[ 2.77823575e-01  8.14158957e-01  4.10449151e-01  2.50997104e-01]\n",
      " [ 0.00000000e+00 -1.58030630e+00 -9.14536295e-01  4.41981294e-02]\n",
      " [ 0.00000000e+00  0.00000000e+00  5.12812471e-01  2.19848574e-01]\n",
      " [ 0.00000000e+00  2.22044605e-16  0.00000000e+00 -9.99551877e-01]]\n"
     ]
    }
   ],
   "source": [
    "U0 = ra.rand(4,4)\n",
    "print(U0)\n",
    "v1, U1 = updateU(U0,1)\n",
    "print(U1)\n",
    "v2, U2 = updateU(U1,2)\n",
    "print(U2)\n",
    "v3, U3 = updateU(U2,3)\n",
    "print(U3)"
   ]
  },
  {
   "cell_type": "markdown",
   "id": "0cd62e19",
   "metadata": {},
   "source": [
    "## <center> Calculating $L^{(n)}$ </center>\n"
   ]
  },
  {
   "cell_type": "markdown",
   "id": "86a1a10b",
   "metadata": {},
   "source": [
    "## <center> Solving linear sets of equations </center>\n",
    "\n",
    "Now it's finally time to combine everything we know. First, let us define a function $\\texttt{getLU}$, whose input is an arbitrary function $\\mathbf{A}$ and whose output are two matrices $\\mathbf{L}$ and $\\mathbf{U}$ which are the LU factorization of $\\mathbf{A}$.\n",
    "\n",
    "Note that for an $N\\times N$ matrix, one needs to use $\\texttt{updateU}$ $N-1$ times. Also, one can use the vectors outputted by $\\texttt{updateU}$ to construct $\\mathbf{L}$.\n",
    "\n",
    "A useful function here is $\\texttt{np.copy}$, which lets you copy the values of a matrix, so that mutations on a copied matrix does not affect the original matrix."
   ]
  },
  {
   "cell_type": "code",
   "execution_count": 14,
   "id": "c7293c10",
   "metadata": {},
   "outputs": [],
   "source": [
    "def getLU(A):\n",
    "  \n",
    "    N = len(A)\n",
    "    U = np.copy(A)\n",
    "    L = np.zeros((N,N))\n",
    "    for i in range(N-1):\n",
    "        vi,U = updateU(U,i+1)\n",
    "        L[:,i] = -vi\n",
    "    L += np.identity(N)\n",
    "    return L,U"
   ]
  },
  {
   "cell_type": "markdown",
   "id": "e47a4bdb",
   "metadata": {},
   "source": [
    "If the factorization is correct, then $\\mathbf{L} \\mathbf{U} = A$"
   ]
  },
  {
   "cell_type": "code",
   "execution_count": 15,
   "id": "e2cb1b52",
   "metadata": {},
   "outputs": [],
   "source": [
    "N = 20\n",
    "A = ra.rand(N,N)\n",
    "L,U = getLU(A)\n",
    "\n",
    "assert la.norm(np.dot(L,U) - A) < 1E-6"
   ]
  },
  {
   "cell_type": "markdown",
   "id": "f4409437",
   "metadata": {},
   "source": [
    "Now let's combine everything finally. Given a matrix $\\mathbf{A}$ and a constant column vector $c$, we solve for an unknown set of coefficients $x$ constrained by the following set of linear algebraic equations:\n",
    "\\begin{equation}\n",
    "\\mathbf{A} x = c\n",
    "\\end{equation}\n",
    "We first factorize $\\mathbf{A}$ into $\\mathbf{L} \\mathbf{U}$ and first solve a intermediate set of coefficients $v$\n",
    "\\begin{equation}\n",
    "\\mathbf{L}v = c\n",
    "\\end{equation}\n",
    "using $\\texttt{solveL}$ and then finally $x$\n",
    "\\begin{equation}\n",
    "\\mathbf{U}x = v\n",
    "\\end{equation}\n",
    "using $\\texttt{solveU}$.\n",
    "\n",
    "Kindly implement this in the following function $\\texttt{solveAxc}$, whose inputs are $\\mathbf{A}$ and $c$ and whose output is the solution $x$"
   ]
  },
  {
   "cell_type": "code",
   "execution_count": 17,
   "id": "012d10f1",
   "metadata": {},
   "outputs": [],
   "source": [
    "def solveAxc(A,c):\n",
    "   \n",
    "    L,U = getLU(A)\n",
    "    v = solveL(L,c)\n",
    "    x = solveU(U,v)\n",
    "    return x"
   ]
  },
  {
   "cell_type": "markdown",
   "id": "ea52593e",
   "metadata": {},
   "source": [
    "Your solution should pass the following unit test."
   ]
  },
  {
   "cell_type": "code",
   "execution_count": 18,
   "id": "406840dc",
   "metadata": {},
   "outputs": [],
   "source": [
    "N = 20\n",
    "A = ra.rand(N,N)\n",
    "c = ra.rand(N)\n",
    "x = solveAxc(A,c)\n",
    "\n",
    "assert la.norm(np.dot(A,x) - c)<1E-12"
   ]
  }
 ],
 "metadata": {
  "kernelspec": {
   "display_name": "Python 3 (ipykernel)",
   "language": "python",
   "name": "python3"
  },
  "language_info": {
   "codemirror_mode": {
    "name": "ipython",
    "version": 3
   },
   "file_extension": ".py",
   "mimetype": "text/x-python",
   "name": "python",
   "nbconvert_exporter": "python",
   "pygments_lexer": "ipython3",
   "version": "3.9.12"
  }
 },
 "nbformat": 4,
 "nbformat_minor": 5
}
