{
 "cells": [
  {
   "cell_type": "code",
   "execution_count": 1,
   "id": "3e138d1b",
   "metadata": {},
   "outputs": [],
   "source": [
    "import numpy as np\n",
    "import sympy as sp\n",
    "import matplotlib.pyplot as plt\n",
    "import matplotlib.animation as anim\n",
    "import scipy.fft as fft\n",
    "from IPython.display import HTML\n",
    "import time"
   ]
  },
  {
   "cell_type": "markdown",
   "id": "cb34d8de",
   "metadata": {},
   "source": [
    "# <center> Fourier transform and physics Part II </center>\n",
    "\n",
    "In this notes, we shall be solving our first dynamical system: the heat equation,\n",
    "\\begin{equation}\n",
    "\\dfrac{\\partial u}{\\partial t} = \\alpha \\dfrac{\\partial^2 u}{\\partial x^2}\n",
    "\\end{equation}\n",
    "\n",
    "Since we are going to evolve data in time, we will also learn how to animate in this notes.\n",
    "\n",
    "Whenever the heat equation acts on a solution $u(x,t)$ with compact support, one must supply additional conditions at the boundaries. Here, we shall be considering two types of those boundary conditions: Dirichlet boundary conditions, and Neumann boundary conditions. Explicitly, we shall be solving the following two types of systems,\n",
    "\\begin{equation}\n",
    "\\dfrac{\\partial u}{\\partial t} = \\alpha \\dfrac{\\partial^2 u}{\\partial x^2}, \\qquad u(x,0) = f(x), \\qquad u(0,t) = a, u(1,t) = b,\n",
    "\\end{equation}\n",
    "where we require\n",
    "\\begin{equation}\n",
    "f(0) = a, \\qquad f(1) = b,\n",
    "\\end{equation}\n",
    "and another system given by\n",
    "\\begin{equation}\n",
    "\\dfrac{\\partial u}{\\partial t} = \\alpha \\dfrac{\\partial^2 u}{\\partial x^2}, \\qquad u(x,0) = f(x), \\qquad \\dfrac{\\partial u(0,t)}{\\partial x} = \\dfrac{\\partial u(1,t)}{\\partial x} = 0.\n",
    "\\end{equation}\n",
    "These two systems correspond roughly to the evolution of a rod kept at a certain temperature at both ends (say, being in contact with a heat bath of some temperature $a$ and $b$), or the evolution of an insulated rod with some initial heat distribution.\n",
    "\n",
    "As we shall see, these two problems may be solved numerically for any initial distribution satisfying the boundary conditions using discrete sine and discrete cosine transforms.\n",
    "\n",
    "## <center> Separation of variables </center>\n",
    "\n",
    "The main technique we shall be employing is separation of variables,\n",
    "\\begin{equation}\n",
    "u(x,t) = X(x)T(t)\n",
    "\\end{equation}\n",
    "The heat equation reduces to\n",
    "\\begin{equation}\n",
    "\\dfrac{1}{\\alpha T}\\dfrac{d T}{dt} = \\dfrac{1}{X} \\dfrac{d^2 X}{dx^2}\n",
    "\\end{equation}\n",
    "Because the left and right hand sides may be varied, being dependent on different independent variables, this implies that\n",
    "\\begin{equation}\n",
    "\\dfrac{1}{\\alpha T}\\dfrac{d T}{dt} = k, \\qquad \\dfrac{1}{X} \\dfrac{d^2 X}{dx^2} = k\n",
    "\\end{equation}\n",
    "We shall consider three cases.\n",
    "___\n",
    "### <center> $k > 0$ </center>\n",
    "Let $\\lambda^2 = k$. One should be able to show that whenever $k > 0$, our solutions look like\n",
    "\\begin{equation}\n",
    "X_\\lambda(x) = A_\\lambda \\exp (\\lambda x) + B_\\lambda \\exp (-\\lambda x), \\qquad T_\\lambda(t) = \\exp( \\alpha \\lambda^2 t)\n",
    "\\end{equation}\n",
    "___\n",
    "### <center> $k = 0$ </center>\n",
    "Whenever $k = 0$, our solutions look like\n",
    "\\begin{equation}\n",
    "X_0(x) = A_0 + B_0 x, \\qquad T_0(t) = 1\n",
    "\\end{equation}\n",
    "___\n",
    "### <center> $k < 0$ </center>\n",
    "Let $\\mu^2 = - k$. One should be able to show that whenever $k < 0$, our solutions look like\n",
    "\\begin{equation}\n",
    "X_{\\mu}(x) = A_{\\mu} cos (\\mu x) + B_{\\mu} sin(\\mu x), \\qquad  T_{\\mu}(t) = \\exp ( - \\alpha \\mu^2 t )\n",
    "\\end{equation}\n",
    "## <center> Solving the Dirichlet problem </center>\n",
    "Let us first solve the $k = 0$ solution. This simplifies the problem significantly, since we may peal away this particular part of the problem to yield an easier set of boundary conditions.\n",
    "\n",
    "When looking at the solutions for which $k = 0$, the boundary conditions imply\n",
    "\\begin{equation}\n",
    "u_0(0,t) = A_0 = a, \\qquad u_0(1,t) = A_0 + B_0 = b\n",
    "\\end{equation}\n",
    "It should be clear that the solutions are given by\n",
    "\\begin{equation}\n",
    "u_0(x,t) = a + (b-a) x\n",
    "\\end{equation}\n",
    "\n",
    "Now, if we either look at\n",
    "\\begin{equation}\n",
    "u(x,t) = u_0(x,t) + \\sum_\\lambda C_\\lambda u_\\lambda(x,t)\n",
    "\\end{equation}\n",
    "or\n",
    "\\begin{equation}\n",
    "u(x,t) = u_0(x,t) + \\sum_\\mu C_\\mu u_\\mu(x,t)\n",
    "\\end{equation}\n",
    "it is clear that the boundary conditions which $u_\\lambda(x,t)$ and $u_\\mu(x,t)$ must satisfy is given now by\n",
    "\\begin{equation}\n",
    "u_\\lambda(0,t) = u_\\mu(0,t) = u_\\lambda(1,t) = u_\\mu(1,t) = 0\n",
    "\\end{equation}\n",
    "\n",
    "___\n",
    "\n",
    "When looking at the solutions for which $k > 0$, the boundary conditions imply\n",
    "\\begin{equation}\n",
    "u_\\lambda(0,t) = (A_\\lambda + B_\\lambda)\\exp( \\alpha \\lambda^2 t) = 0, \\qquad u(1,t) = (A_\\lambda exp(\\lambda) + B_\\lambda \\exp(-\\lambda))\\exp( \\alpha \\lambda^2 t) = 0\n",
    "\\end{equation}\n",
    "It should be clear that if this is to be satisfied for all time, $A_\\lambda = B_\\lambda = 0$.\n",
    "___\n",
    "When looking at the solutions for which $k < 0$, the boundary conditions imply\n",
    "\\begin{equation}\n",
    "u_\\mu(0,t) = (A_\\mu) \\exp( - \\alpha \\mu^2 t) = 0,\n",
    "\\end{equation}\n",
    "which yields us $A_\\mu = 0$, and\n",
    "\\begin{equation}\n",
    "u_\\mu(1,t) = B_\\mu \\sin(\\mu t) \\exp (- \\alpha \\mu^2 t) = 0,\n",
    "\\end{equation}\n",
    "which gives us the condition that\n",
    "\\begin{equation}\n",
    "\\mu = n \\pi, \\qquad n = 1,2,3,\\dots.\n",
    "\\end{equation}\n",
    "Thus, the general solution of the Dirichlet problem is of the form\n",
    "\\begin{equation}\n",
    "u(x,t) = a + (b-a) x + \\sum_{n = 1}^\\infty C_n \\sin( n \\pi x) \\exp( - \\alpha n^2 \\pi^2 t)\n",
    "\\end{equation}\n",
    "The particular solution is supplied by the final boundary condition, the initial heat distribution at $t = 0$,\n",
    "\\begin{equation}\n",
    "u(x,0) = f(x) = a + (b-a) x + \\sum_{n = 1}^\\infty C_n \\sin (n \\pi x).\n",
    "\\end{equation}\n",
    "Rearranging this, we see that this is just a discrete sine transformation problem,\n",
    "\\begin{equation}\n",
    "f(x) - a - (b-a)x = \\sum_{n = 1}^\\infty C_n \\sin(n \\pi x),\n",
    "\\end{equation}\n",
    "to get the list of coefficients $C_n$.\n",
    "\n",
    "### <center> Numerical solution of the Dirichlet problem </center>\n",
    "In this section we shall be solving the heat equation with Dirichlet boundary conditions. We shall be using a function that generates a snapshot of the heat distribution at each time step, so that we can use it for animation later on."
   ]
  },
  {
   "cell_type": "code",
   "execution_count": 2,
   "id": "cbc8ad96",
   "metadata": {},
   "outputs": [],
   "source": [
    "def heat_dirichlet(x, f, h):\n",
    "    \"\"\"\n",
    "    Solves the heat equation, given by u(x,0) = f(x).\n",
    "    \n",
    "    Yields the heat distribution u_new sequentially at each time step, with a time step given by h\n",
    "    \"\"\"\n",
    "    yield x,f #return initial distribution\n",
    "    \n",
    "    #Solve u0 solution\n",
    "    a = f[0]\n",
    "    b = f[-1]\n",
    "    u0 = a + (b-a)*x\n",
    "    \n",
    "    #Discrete sine transformation of f(x) - u0(x,t)\n",
    "    c = fft.dst(f - u0)\n",
    "    N = c.shape[0]\n",
    "    \n",
    "    #Generate list of how each coefficient evolves after each time step\n",
    "    exps = np.zeros(N)\n",
    "    for i in range(N):\n",
    "        exps[i] = np.exp(- (i+1)**2 * np.pi**2 * h)\n",
    "        \n",
    "    #First time step\n",
    "    c_new = exps * c\n",
    "    \n",
    "    while True:\n",
    "        u_new = fft.idst(c_new) + u0\n",
    "        yield (x, u_new)\n",
    "        c_new = exps * c_new\n",
    "    "
   ]
  },
  {
   "cell_type": "markdown",
   "id": "2d947204",
   "metadata": {},
   "source": [
    "With the function above, we should be able to make snapshots of the heat distribution at each time step, give by a step size $h$. Let us consider an initial distribution of heat given by,\n",
    "\\begin{equation}\n",
    "f(x) = \\left\\lbrace\n",
    "\\begin{matrix}\n",
    "1 & x < 1/2 \\\\\n",
    "0 & x \\geq 1/2\n",
    "\\end{matrix}\n",
    "\\right.\n",
    "\\end{equation}"
   ]
  },
  {
   "cell_type": "code",
   "execution_count": 3,
   "id": "f8499000",
   "metadata": {},
   "outputs": [
    {
     "data": {
      "image/png": "[encoded data removed]",
      "text/plain": [
       "<Figure size 432x288 with 1 Axes>"
      ]
     },
     "metadata": {
      "needs_background": "light"
     },
     "output_type": "display_data"
    }
   ],
   "source": [
    "N = 1_00\n",
    "x = np.linspace(0,1,N)\n",
    "f = (np.sign(1/2-x)+1)/2\n",
    "\n",
    "plt.plot(x, f)\n",
    "plt.show()"
   ]
  },
  {
   "cell_type": "markdown",
   "id": "a5346a1f",
   "metadata": {},
   "source": [
    "Let us look at what the heat distribution looks like every 0.5 seconds."
   ]
  },
  {
   "cell_type": "code",
   "execution_count": 4,
   "id": "02c1d805",
   "metadata": {},
   "outputs": [
    {
     "data": {
      "image/png": "[encoded data removed]",
      "text/plain": [
       "<Figure size 432x288 with 1 Axes>"
      ]
     },
     "metadata": {
      "needs_background": "light"
     },
     "output_type": "display_data"
    }
   ],
   "source": [
    "evolution = heat_dirichlet(x, f,0.005)\n",
    "for _ in range(5):\n",
    "    x,u = next(evolution)\n",
    "    plt.plot(x,u)"
   ]
  },
  {
   "cell_type": "markdown",
   "id": "f3ead209",
   "metadata": {},
   "source": [
    "Now, let us turn to the task of animating this. We may use matplotlib's animation library, specifically FuncAnimation. A very basic implementation is as follows.\n",
    "\n",
    "The key idea is that FuncAnimation expects in its second input a function that just calls the nth frame. Unless we wish to solve the entire evolution on the spot, plot(n) must somehow remember the (n-1)th frame, and evolve it to the next frame.\n",
    "\n",
    "This is essentially done by the generator."
   ]
  },
  {
   "cell_type": "code",
   "execution_count": 5,
   "id": "c441ee5f",
   "metadata": {},
   "outputs": [
    {
     "data": {
      "image/png": "[encoded data removed]",
      "text/plain": [
       "<Figure size 432x288 with 1 Axes>"
      ]
     },
     "metadata": {
      "needs_background": "light"
     },
     "output_type": "display_data"
    }
   ],
   "source": [
    "fig = plt.figure()\n",
    "ax = plt.axes(xlim = (0,1), ylim = (-0.1,1.1))\n",
    "temp, = ax.plot([],[]) # comma signifies unknown number of multiple assignment , just in case\n",
    "data = heat_dirichlet(x,f,0.005)\n",
    "\n",
    "def get_plot(data_gen):\n",
    "    def plot(n):\n",
    "        x, y = next(data_gen)\n",
    "        temp.set_data(x,y)\n",
    "        return temp,\n",
    "    return plot\n",
    "\n",
    "plot_func = get_plot(data)\n",
    "\n",
    "ani = anim.FuncAnimation(fig, plot_func, frames=10, interval = 100, blit = True)"
   ]
  },
  {
   "cell_type": "markdown",
   "id": "dc193ddd",
   "metadata": {},
   "source": [
    "To animate this in a Jupyter notebook, it's sufficient to convert it into an HTML5 video"
   ]
  },
  {
   "cell_type": "code",
   "execution_count": 6,
   "id": "fec29812",
   "metadata": {},
   "outputs": [
    {
     "ename": "RuntimeError",
     "evalue": "Requested MovieWriter (ffmpeg) not available",
     "output_type": "error",
     "traceback": [
      "\u001b[1;31m---------------------------------------------------------------------------\u001b[0m",
      "\u001b[1;31mRuntimeError\u001b[0m                              Traceback (most recent call last)",
      "Input \u001b[1;32mIn [6]\u001b[0m, in \u001b[0;36m<cell line: 1>\u001b[1;34m()\u001b[0m\n\u001b[1;32m----> 1\u001b[0m HTML(\u001b[43mani\u001b[49m\u001b[38;5;241;43m.\u001b[39;49m\u001b[43mto_html5_video\u001b[49m\u001b[43m(\u001b[49m\u001b[43m)\u001b[49m)\n",
      "File \u001b[1;32m~\\anaconda3\\lib\\site-packages\\matplotlib\\animation.py:1266\u001b[0m, in \u001b[0;36mAnimation.to_html5_video\u001b[1;34m(self, embed_limit)\u001b[0m\n\u001b[0;32m   1263\u001b[0m path \u001b[38;5;241m=\u001b[39m Path(tmpdir, \u001b[38;5;124m\"\u001b[39m\u001b[38;5;124mtemp.m4v\u001b[39m\u001b[38;5;124m\"\u001b[39m)\n\u001b[0;32m   1264\u001b[0m \u001b[38;5;66;03m# We create a writer manually so that we can get the\u001b[39;00m\n\u001b[0;32m   1265\u001b[0m \u001b[38;5;66;03m# appropriate size for the tag\u001b[39;00m\n\u001b[1;32m-> 1266\u001b[0m Writer \u001b[38;5;241m=\u001b[39m \u001b[43mwriters\u001b[49m\u001b[43m[\u001b[49m\u001b[43mmpl\u001b[49m\u001b[38;5;241;43m.\u001b[39;49m\u001b[43mrcParams\u001b[49m\u001b[43m[\u001b[49m\u001b[38;5;124;43m'\u001b[39;49m\u001b[38;5;124;43manimation.writer\u001b[39;49m\u001b[38;5;124;43m'\u001b[39;49m\u001b[43m]\u001b[49m\u001b[43m]\u001b[49m\n\u001b[0;32m   1267\u001b[0m writer \u001b[38;5;241m=\u001b[39m Writer(codec\u001b[38;5;241m=\u001b[39m\u001b[38;5;124m'\u001b[39m\u001b[38;5;124mh264\u001b[39m\u001b[38;5;124m'\u001b[39m,\n\u001b[0;32m   1268\u001b[0m                 bitrate\u001b[38;5;241m=\u001b[39mmpl\u001b[38;5;241m.\u001b[39mrcParams[\u001b[38;5;124m'\u001b[39m\u001b[38;5;124manimation.bitrate\u001b[39m\u001b[38;5;124m'\u001b[39m],\n\u001b[0;32m   1269\u001b[0m                 fps\u001b[38;5;241m=\u001b[39m\u001b[38;5;241m1000.\u001b[39m \u001b[38;5;241m/\u001b[39m \u001b[38;5;28mself\u001b[39m\u001b[38;5;241m.\u001b[39m_interval)\n\u001b[0;32m   1270\u001b[0m \u001b[38;5;28mself\u001b[39m\u001b[38;5;241m.\u001b[39msave(\u001b[38;5;28mstr\u001b[39m(path), writer\u001b[38;5;241m=\u001b[39mwriter)\n",
      "File \u001b[1;32m~\\anaconda3\\lib\\site-packages\\matplotlib\\animation.py:151\u001b[0m, in \u001b[0;36mMovieWriterRegistry.__getitem__\u001b[1;34m(self, name)\u001b[0m\n\u001b[0;32m    149\u001b[0m \u001b[38;5;28;01mif\u001b[39;00m \u001b[38;5;28mself\u001b[39m\u001b[38;5;241m.\u001b[39mis_available(name):\n\u001b[0;32m    150\u001b[0m     \u001b[38;5;28;01mreturn\u001b[39;00m \u001b[38;5;28mself\u001b[39m\u001b[38;5;241m.\u001b[39m_registered[name]\n\u001b[1;32m--> 151\u001b[0m \u001b[38;5;28;01mraise\u001b[39;00m \u001b[38;5;167;01mRuntimeError\u001b[39;00m(\u001b[38;5;124mf\u001b[39m\u001b[38;5;124m\"\u001b[39m\u001b[38;5;124mRequested MovieWriter (\u001b[39m\u001b[38;5;132;01m{\u001b[39;00mname\u001b[38;5;132;01m}\u001b[39;00m\u001b[38;5;124m) not available\u001b[39m\u001b[38;5;124m\"\u001b[39m)\n",
      "\u001b[1;31mRuntimeError\u001b[0m: Requested MovieWriter (ffmpeg) not available"
     ]
    }
   ],
   "source": [
    "HTML(ani.to_html5_video())"
   ]
  },
  {
   "cell_type": "markdown",
   "id": "e88cac97",
   "metadata": {},
   "source": [
    "Let's add some text."
   ]
  },
  {
   "cell_type": "code",
   "execution_count": 7,
   "id": "c4bf3ad5",
   "metadata": {},
   "outputs": [
    {
     "data": {
      "image/png": "[encoded data removed]",
      "text/plain": [
       "<Figure size 432x288 with 1 Axes>"
      ]
     },
     "metadata": {
      "needs_background": "light"
     },
     "output_type": "display_data"
    }
   ],
   "source": [
    "def heat_dirichlet_t(x, f, h):\n",
    "    \"\"\"\n",
    "    Solves the heat equation, given by u(x,0) = f(x).\n",
    "    \n",
    "    Yields the heat distributionu_new sequentially at each time step, with a time step given by h\n",
    "    \"\"\"\n",
    "    yield (0,x,f) #return initial distribution\n",
    "    \n",
    "    #Solve u0 solution\n",
    "    a = f[0]\n",
    "    b = f[-1]\n",
    "    u0 = a + (b-a)*x\n",
    "    \n",
    "    #Discrete sine transformation of f(x) - u0(x,t)\n",
    "    c = fft.dst(f - u0)\n",
    "    N = c.shape[0]\n",
    "    \n",
    "    #Generate list of how each coefficient evolves after each time step\n",
    "    exps = np.zeros(N)\n",
    "    for i in range(N):\n",
    "        exps[i] = np.exp(- (i+1)**2 * np.pi**2 * h)\n",
    "        \n",
    "    #First time step\n",
    "    c_new = exps * c\n",
    "    \n",
    "    k = 1\n",
    "    while True:\n",
    "        u_new = fft.idst(c_new) + u0\n",
    "        yield (k*h, x, u_new)\n",
    "        c_new, k = exps * c_new, k + 1\n",
    "\n",
    "fig = plt.figure()\n",
    "ax = plt.axes(xlim = (0,1), ylim = (-0.1,1.1), title = \"Heat equation\")\n",
    "plt.rcParams.update({'font.size': 15})\n",
    "temp0, = ax.plot(x,f)\n",
    "temp, = ax.plot([],[])\n",
    "time_text = ax.text(0.735, 1, '')\n",
    "data = heat_dirichlet_t(x,f,0.0005)\n",
    "\n",
    "def get_plot(data_gen):\n",
    "    def plot(n):\n",
    "        t,x,y = next(data_gen)\n",
    "        temp.set_data(x,y)\n",
    "        time_text.set_text('t = {0:.3f} s'.format(t))\n",
    "        return (temp,time_text)\n",
    "    return plot\n",
    "\n",
    "plot_func = get_plot(data)\n",
    "\n",
    "ani = anim.FuncAnimation(fig, plot_func, frames=200, interval = 20, blit = True)"
   ]
  },
  {
   "cell_type": "code",
   "execution_count": 8,
   "id": "6a9cee91",
   "metadata": {},
   "outputs": [
    {
     "ename": "RuntimeError",
     "evalue": "Requested MovieWriter (ffmpeg) not available",
     "output_type": "error",
     "traceback": [
      "\u001b[1;31m---------------------------------------------------------------------------\u001b[0m",
      "\u001b[1;31mRuntimeError\u001b[0m                              Traceback (most recent call last)",
      "Input \u001b[1;32mIn [8]\u001b[0m, in \u001b[0;36m<cell line: 1>\u001b[1;34m()\u001b[0m\n\u001b[1;32m----> 1\u001b[0m HTML(\u001b[43mani\u001b[49m\u001b[38;5;241;43m.\u001b[39;49m\u001b[43mto_html5_video\u001b[49m\u001b[43m(\u001b[49m\u001b[43m)\u001b[49m)\n",
      "File \u001b[1;32m~\\anaconda3\\lib\\site-packages\\matplotlib\\animation.py:1266\u001b[0m, in \u001b[0;36mAnimation.to_html5_video\u001b[1;34m(self, embed_limit)\u001b[0m\n\u001b[0;32m   1263\u001b[0m path \u001b[38;5;241m=\u001b[39m Path(tmpdir, \u001b[38;5;124m\"\u001b[39m\u001b[38;5;124mtemp.m4v\u001b[39m\u001b[38;5;124m\"\u001b[39m)\n\u001b[0;32m   1264\u001b[0m \u001b[38;5;66;03m# We create a writer manually so that we can get the\u001b[39;00m\n\u001b[0;32m   1265\u001b[0m \u001b[38;5;66;03m# appropriate size for the tag\u001b[39;00m\n\u001b[1;32m-> 1266\u001b[0m Writer \u001b[38;5;241m=\u001b[39m \u001b[43mwriters\u001b[49m\u001b[43m[\u001b[49m\u001b[43mmpl\u001b[49m\u001b[38;5;241;43m.\u001b[39;49m\u001b[43mrcParams\u001b[49m\u001b[43m[\u001b[49m\u001b[38;5;124;43m'\u001b[39;49m\u001b[38;5;124;43manimation.writer\u001b[39;49m\u001b[38;5;124;43m'\u001b[39;49m\u001b[43m]\u001b[49m\u001b[43m]\u001b[49m\n\u001b[0;32m   1267\u001b[0m writer \u001b[38;5;241m=\u001b[39m Writer(codec\u001b[38;5;241m=\u001b[39m\u001b[38;5;124m'\u001b[39m\u001b[38;5;124mh264\u001b[39m\u001b[38;5;124m'\u001b[39m,\n\u001b[0;32m   1268\u001b[0m                 bitrate\u001b[38;5;241m=\u001b[39mmpl\u001b[38;5;241m.\u001b[39mrcParams[\u001b[38;5;124m'\u001b[39m\u001b[38;5;124manimation.bitrate\u001b[39m\u001b[38;5;124m'\u001b[39m],\n\u001b[0;32m   1269\u001b[0m                 fps\u001b[38;5;241m=\u001b[39m\u001b[38;5;241m1000.\u001b[39m \u001b[38;5;241m/\u001b[39m \u001b[38;5;28mself\u001b[39m\u001b[38;5;241m.\u001b[39m_interval)\n\u001b[0;32m   1270\u001b[0m \u001b[38;5;28mself\u001b[39m\u001b[38;5;241m.\u001b[39msave(\u001b[38;5;28mstr\u001b[39m(path), writer\u001b[38;5;241m=\u001b[39mwriter)\n",
      "File \u001b[1;32m~\\anaconda3\\lib\\site-packages\\matplotlib\\animation.py:151\u001b[0m, in \u001b[0;36mMovieWriterRegistry.__getitem__\u001b[1;34m(self, name)\u001b[0m\n\u001b[0;32m    149\u001b[0m \u001b[38;5;28;01mif\u001b[39;00m \u001b[38;5;28mself\u001b[39m\u001b[38;5;241m.\u001b[39mis_available(name):\n\u001b[0;32m    150\u001b[0m     \u001b[38;5;28;01mreturn\u001b[39;00m \u001b[38;5;28mself\u001b[39m\u001b[38;5;241m.\u001b[39m_registered[name]\n\u001b[1;32m--> 151\u001b[0m \u001b[38;5;28;01mraise\u001b[39;00m \u001b[38;5;167;01mRuntimeError\u001b[39;00m(\u001b[38;5;124mf\u001b[39m\u001b[38;5;124m\"\u001b[39m\u001b[38;5;124mRequested MovieWriter (\u001b[39m\u001b[38;5;132;01m{\u001b[39;00mname\u001b[38;5;132;01m}\u001b[39;00m\u001b[38;5;124m) not available\u001b[39m\u001b[38;5;124m\"\u001b[39m)\n",
      "\u001b[1;31mRuntimeError\u001b[0m: Requested MovieWriter (ffmpeg) not available"
     ]
    }
   ],
   "source": [
    "HTML(ani.to_html5_video())"
   ]
  },
  {
   "cell_type": "markdown",
   "id": "69edc87d",
   "metadata": {},
   "source": [
    "### <center> Solving the Neumann problem </center>\n",
    "\n",
    "Unlike the Dirichlet problem, where we had to solve the $k = 0$ solution first before looking at the $k > 0$ and $k < 0$ solutions, we may do them in any order with the Neumann problem.\n",
    "\n",
    "For $k > 0$ solutions, the boundary conditions imply the following constraints for $A_\\lambda$ and $B_\\lambda$,\n",
    "\\begin{equation}\n",
    "\\partial_x u_\\lambda(0,t) = \\lambda(A_\\lambda - B_\\lambda)\\exp(- \\alpha \\lambda^2 t) = 0, \\qquad \\partial_x u_\\lambda(1,t) = \\lambda (A_\\lambda \\exp(\\lambda) - B_\\lambda \\exp(-\\lambda))\\exp (- \\alpha \\lambda^2 t) = 0\n",
    "\\end{equation}\n",
    "One should be able to convince yourselves that for this to be true at all times, $A_\\mu = B_\\mu = 0$.\n",
    "\n",
    "___\n",
    "For the $k = 0$ solution, the boundary conditions imply\n",
    "\\begin{equation}\n",
    "\\partial_x u_0(0,t) = B_0 = 0, \\qquad \\partial_x u_0(1,t) = B_0 = 0\n",
    "\\end{equation}\n",
    "Thus, $u_0(x,t) = A_0$.\n",
    "___\n",
    "For the $k < 0$ solution, the boundary conditions imply at $x = 0$\n",
    "\\begin{equation}\n",
    "\\partial_x u_0(0,t) = B_\\mu \\mu \\exp( - \\alpha \\mu^2 t) = 0, \\qquad B_\\mu = 0,\n",
    "\\end{equation}\n",
    "and the boundary conditions imply at $x = 1$\n",
    "\\begin{equation}\n",
    "\\partial_x u_0(1,t) = A_\\mu \\mu \\sin(\\mu) \\exp(- \\alpha \\mu^2 t) = 0, \\qquad \\mu = n \\pi, \\qquad n = 1,2,3,\\dots\n",
    "\\end{equation}\n",
    "___\n",
    "Thus, the general solution is given by\n",
    "\\begin{equation}\n",
    "u(x,t) = A_0 + \\sum_{n = 1}^\\infty A_n \\cos(n \\pi x) \\exp(- \\alpha n^2 \\pi^2 t),\n",
    "\\end{equation}\n",
    "and the particular solution, given by the initial value at $t = 0$, is obtained by a discrete cosine transformation,\n",
    "\\begin{equation}\n",
    "u(x,0) = f(x) = \\sum_{n = 0}^\\infty A_n \\cos(n \\pi x).\n",
    "\\end{equation}\n",
    "### <center> Numerical solution of the Neumann problem </center>\n",
    "We will proceed as before, writing a generator that calculates each temperature distribution at each time step"
   ]
  },
  {
   "cell_type": "code",
   "execution_count": 9,
   "id": "b2b88358",
   "metadata": {},
   "outputs": [],
   "source": [
    "def heat_neumann(x, f, h):\n",
    "    \"\"\"\n",
    "    Solves the heat equation, given by u(x,0) = f(x).\n",
    "    \n",
    "    Yields the heat distribution u_new sequentially at each time step, with a time step given by h\n",
    "    \"\"\"\n",
    "    yield x,f #return initial distribution\n",
    "    \n",
    "    #Discrete cosine transformation of f(x)\n",
    "    c = fft.dct(f)\n",
    "    N = c.shape[0]\n",
    "    \n",
    "    #Generate list of how each coefficient evolves after each time step\n",
    "    exps = np.zeros(N)\n",
    "    for i in range(N):\n",
    "        exps[i] = np.exp(- i**2 * np.pi**2 * h)\n",
    "        \n",
    "    #First time step\n",
    "    c_new = exps * c\n",
    "    \n",
    "    while True:\n",
    "        u_new = fft.idct(c_new)\n",
    "        yield (x, u_new)\n",
    "        c_new = exps * c_new"
   ]
  },
  {
   "cell_type": "markdown",
   "id": "5f801f24",
   "metadata": {},
   "source": [
    "Let's see what happens every 0.05 seconds"
   ]
  },
  {
   "cell_type": "code",
   "execution_count": 10,
   "id": "cf1b55d2",
   "metadata": {},
   "outputs": [
    {
     "data": {
      "image/png": "[encoded data removed]",
      "text/plain": [
       "<Figure size 432x288 with 1 Axes>"
      ]
     },
     "metadata": {
      "needs_background": "light"
     },
     "output_type": "display_data"
    }
   ],
   "source": [
    "evolution = heat_neumann(x, f,0.05)\n",
    "for _ in range(5):\n",
    "    x,u = next(evolution)\n",
    "    plt.plot(x,u)"
   ]
  },
  {
   "cell_type": "markdown",
   "id": "0f662cec",
   "metadata": {},
   "source": [
    "Now we animate"
   ]
  },
  {
   "cell_type": "code",
   "execution_count": 11,
   "id": "5690818e",
   "metadata": {},
   "outputs": [
    {
     "data": {
      "image/png": "[encoded data removed]",
      "text/plain": [
       "<Figure size 432x288 with 1 Axes>"
      ]
     },
     "metadata": {
      "needs_background": "light"
     },
     "output_type": "display_data"
    }
   ],
   "source": [
    "fig = plt.figure()\n",
    "ax = plt.axes(xlim = (0,1), ylim = (-0.1,1.1))\n",
    "temp, = ax.plot([],[])\n",
    "data = heat_neumann(x,f,0.005)\n",
    "\n",
    "def get_plot(data_gen):\n",
    "    def plot(n):\n",
    "        x, y = next(data_gen)\n",
    "        temp.set_data(x,y)\n",
    "        return temp,\n",
    "    return plot\n",
    "\n",
    "plot_func = get_plot(data)\n",
    "\n",
    "ani = anim.FuncAnimation(fig, plot_func, frames=10, interval = 100, blit = True)"
   ]
  },
  {
   "cell_type": "code",
   "execution_count": 12,
   "id": "65ad1a9e",
   "metadata": {},
   "outputs": [
    {
     "ename": "RuntimeError",
     "evalue": "Requested MovieWriter (ffmpeg) not available",
     "output_type": "error",
     "traceback": [
      "\u001b[1;31m---------------------------------------------------------------------------\u001b[0m",
      "\u001b[1;31mRuntimeError\u001b[0m                              Traceback (most recent call last)",
      "Input \u001b[1;32mIn [12]\u001b[0m, in \u001b[0;36m<cell line: 1>\u001b[1;34m()\u001b[0m\n\u001b[1;32m----> 1\u001b[0m HTML(\u001b[43mani\u001b[49m\u001b[38;5;241;43m.\u001b[39;49m\u001b[43mto_html5_video\u001b[49m\u001b[43m(\u001b[49m\u001b[43m)\u001b[49m)\n",
      "File \u001b[1;32m~\\anaconda3\\lib\\site-packages\\matplotlib\\animation.py:1266\u001b[0m, in \u001b[0;36mAnimation.to_html5_video\u001b[1;34m(self, embed_limit)\u001b[0m\n\u001b[0;32m   1263\u001b[0m path \u001b[38;5;241m=\u001b[39m Path(tmpdir, \u001b[38;5;124m\"\u001b[39m\u001b[38;5;124mtemp.m4v\u001b[39m\u001b[38;5;124m\"\u001b[39m)\n\u001b[0;32m   1264\u001b[0m \u001b[38;5;66;03m# We create a writer manually so that we can get the\u001b[39;00m\n\u001b[0;32m   1265\u001b[0m \u001b[38;5;66;03m# appropriate size for the tag\u001b[39;00m\n\u001b[1;32m-> 1266\u001b[0m Writer \u001b[38;5;241m=\u001b[39m \u001b[43mwriters\u001b[49m\u001b[43m[\u001b[49m\u001b[43mmpl\u001b[49m\u001b[38;5;241;43m.\u001b[39;49m\u001b[43mrcParams\u001b[49m\u001b[43m[\u001b[49m\u001b[38;5;124;43m'\u001b[39;49m\u001b[38;5;124;43manimation.writer\u001b[39;49m\u001b[38;5;124;43m'\u001b[39;49m\u001b[43m]\u001b[49m\u001b[43m]\u001b[49m\n\u001b[0;32m   1267\u001b[0m writer \u001b[38;5;241m=\u001b[39m Writer(codec\u001b[38;5;241m=\u001b[39m\u001b[38;5;124m'\u001b[39m\u001b[38;5;124mh264\u001b[39m\u001b[38;5;124m'\u001b[39m,\n\u001b[0;32m   1268\u001b[0m                 bitrate\u001b[38;5;241m=\u001b[39mmpl\u001b[38;5;241m.\u001b[39mrcParams[\u001b[38;5;124m'\u001b[39m\u001b[38;5;124manimation.bitrate\u001b[39m\u001b[38;5;124m'\u001b[39m],\n\u001b[0;32m   1269\u001b[0m                 fps\u001b[38;5;241m=\u001b[39m\u001b[38;5;241m1000.\u001b[39m \u001b[38;5;241m/\u001b[39m \u001b[38;5;28mself\u001b[39m\u001b[38;5;241m.\u001b[39m_interval)\n\u001b[0;32m   1270\u001b[0m \u001b[38;5;28mself\u001b[39m\u001b[38;5;241m.\u001b[39msave(\u001b[38;5;28mstr\u001b[39m(path), writer\u001b[38;5;241m=\u001b[39mwriter)\n",
      "File \u001b[1;32m~\\anaconda3\\lib\\site-packages\\matplotlib\\animation.py:151\u001b[0m, in \u001b[0;36mMovieWriterRegistry.__getitem__\u001b[1;34m(self, name)\u001b[0m\n\u001b[0;32m    149\u001b[0m \u001b[38;5;28;01mif\u001b[39;00m \u001b[38;5;28mself\u001b[39m\u001b[38;5;241m.\u001b[39mis_available(name):\n\u001b[0;32m    150\u001b[0m     \u001b[38;5;28;01mreturn\u001b[39;00m \u001b[38;5;28mself\u001b[39m\u001b[38;5;241m.\u001b[39m_registered[name]\n\u001b[1;32m--> 151\u001b[0m \u001b[38;5;28;01mraise\u001b[39;00m \u001b[38;5;167;01mRuntimeError\u001b[39;00m(\u001b[38;5;124mf\u001b[39m\u001b[38;5;124m\"\u001b[39m\u001b[38;5;124mRequested MovieWriter (\u001b[39m\u001b[38;5;132;01m{\u001b[39;00mname\u001b[38;5;132;01m}\u001b[39;00m\u001b[38;5;124m) not available\u001b[39m\u001b[38;5;124m\"\u001b[39m)\n",
      "\u001b[1;31mRuntimeError\u001b[0m: Requested MovieWriter (ffmpeg) not available"
     ]
    }
   ],
   "source": [
    "HTML(ani.to_html5_video())"
   ]
  },
  {
   "cell_type": "code",
   "execution_count": null,
   "id": "bbefa75c",
   "metadata": {},
   "outputs": [],
   "source": [
    "def heat_neumann_t(x, f, h):\n",
    "    \"\"\"\n",
    "    Solves the heat equation, given by u(x,0) = f(x).\n",
    "    \n",
    "    Yields the heat distribution u_new sequentially at each time step, with a time step given by h\n",
    "    \"\"\"\n",
    "    yield 0,x,f #return initial distribution\n",
    "    \n",
    "    #Discrete cosine transformation of f(x)\n",
    "    c = fft.dct(f)\n",
    "    N = c.shape[0]\n",
    "    \n",
    "    #Generate list of how each coefficient evolves after each time step\n",
    "    exps = np.zeros(N)\n",
    "    for i in range(N):\n",
    "        exps[i] = np.exp(- i**2 * np.pi**2 * h)\n",
    "        \n",
    "    #First time step\n",
    "    c_new = exps * c\n",
    "    \n",
    "    k = 1\n",
    "    while True:\n",
    "        u_new = fft.idct(c_new)\n",
    "        yield (h*k, x, u_new)\n",
    "        \n",
    "        c_new, k = exps * c_new, k + 1\n",
    "\n",
    "fig = plt.figure()\n",
    "ax = plt.axes(xlim = (0,1), ylim = (-0.1,1.1), title = \"Heat equation\")\n",
    "plt.rcParams.update({'font.size': 15})\n",
    "temp0, = ax.plot(x,f)\n",
    "temp, = ax.plot([],[])\n",
    "time_text = ax.text(0.735, 1, '')\n",
    "data = heat_neumann_t(x,f,0.0005)\n",
    "\n",
    "def get_plot(data_gen):\n",
    "    def plot(n):\n",
    "        t,x,y = next(data_gen)\n",
    "        temp.set_data(x,y)\n",
    "        time_text.set_text('t = {0:.3f} s'.format(t))\n",
    "        return (temp,time_text)\n",
    "    return plot\n",
    "\n",
    "plot_func = get_plot(data)\n",
    "\n",
    "ani = anim.FuncAnimation(fig, plot_func, frames=500, interval = 20, blit = True)"
   ]
  },
  {
   "cell_type": "code",
   "execution_count": null,
   "id": "6150569a",
   "metadata": {},
   "outputs": [],
   "source": [
    "HTML(ani.to_html5_video())"
   ]
  },
  {
   "cell_type": "code",
   "execution_count": null,
   "id": "9986b7d6",
   "metadata": {},
   "outputs": [],
   "source": []
  }
 ],
 "metadata": {
  "kernelspec": {
   "display_name": "Python 3 (ipykernel)",
   "language": "python",
   "name": "python3"
  },
  "language_info": {
   "codemirror_mode": {
    "name": "ipython",
    "version": 3
   },
   "file_extension": ".py",
   "mimetype": "text/x-python",
   "name": "python",
   "nbconvert_exporter": "python",
   "pygments_lexer": "ipython3",
   "version": "3.9.12"
  }
 },
 "nbformat": 4,
 "nbformat_minor": 5
}
