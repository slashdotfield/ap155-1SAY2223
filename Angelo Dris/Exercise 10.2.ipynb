{
 "cells": [
  {
   "cell_type": "code",
   "execution_count": 1,
   "id": "904e1614",
   "metadata": {},
   "outputs": [],
   "source": [
    "import numpy as np\n",
    "import numpy.random as rn\n",
    "import matplotlib.pyplot as plt"
   ]
  },
  {
   "cell_type": "markdown",
   "id": "0091146d",
   "metadata": {},
   "source": [
    "# Exercise 10.2\n",
    "\n",
    "In this exercise notebook, we shall try to answer Exercise 10.2.\n",
    "\n",
    "Your first task is to define two functions. The first function, p(t, tau) calculates the probability that a single particle with a half-life tau (in units of seconds) would decay after t seconds with\n",
    "\\begin{equation}\n",
    "p(t; \\tau) = 1 - 2^{-t/\\tau}\n",
    "\\end{equation}\n",
    "\n",
    "The second function, check_decay(t, tau), would use a randomly generated floating point $x$ (using rn.random) to implement the following function\n",
    "\\begin{equation}\n",
    "\\textrm{check_decay}(t, \\tau) = \\left\\lbrace\n",
    "\\begin{matrix}\n",
    "0 \\leq x \\leq p(t; \\tau) & \\textrm{return True} \\\\\n",
    "p(t; \\tau) < x & \\textrm{return False} \\\\\n",
    "\\end{matrix}\n",
    "\\right.\n",
    "\\end{equation}"
   ]
  },
  {
   "cell_type": "markdown",
   "id": "023805d5",
   "metadata": {},
   "source": [
    "def p(t, tau):\n",
    "    return 1 - 2**(-t/tau)\n",
    "\n",
    "def check_decay(t, tau):\n",
    "    x = rn.random()\n",
    "    if 0 <= x <= p(t,tau):\n",
    "        return True\n",
    "    elif x > p(t, tau):\n",
    "        return False"
   ]
  },
  {
   "cell_type": "code",
   "execution_count": 2,
   "id": "d5f752f3",
   "metadata": {},
   "outputs": [],
   "source": [
    "def p(t, tau):\n",
    "    return 1 - 2**(-t/tau)\n",
    "\n",
    "def check_decay(t, tau):\n",
    "    x = rn.random()\n",
    "    if x >= 0 and x <= p(t,tau):\n",
    "        return 1\n",
    "    elif x > p(t, tau):\n",
    "        return 0"
   ]
  },
  {
   "cell_type": "markdown",
   "id": "1589f22b",
   "metadata": {},
   "source": [
    "These functions would most likely pass the following tests (after 1 second, half the atoms with a half-life of 1 second should decay)"
   ]
  },
  {
   "cell_type": "code",
   "execution_count": 3,
   "id": "610057d0",
   "metadata": {},
   "outputs": [],
   "source": [
    "N = 10_000\n",
    "error = 0.1\n",
    "tau = 1\n",
    "t = 1\n",
    "decay_pop = 0\n",
    "for _ in range(N):\n",
    "    if check_decay(t, tau):\n",
    "        decay_pop += 1\n",
    "        N -= 1\n",
    "\n",
    "assert abs(N - decay_pop)/N < error ## the population of N and decay_pop should be almost equal after a half-life"
   ]
  },
  {
   "cell_type": "markdown",
   "id": "628a16a9",
   "metadata": {},
   "source": [
    "Next, write two functions, update_PbBi(t, Pb209_pop, Bi209_pop) and update_TlPb(t, Pb209_pop, Bi209_pop). These two functions does essentially the same thing.\n",
    "\n",
    "update_PbBi goes through each atom of Pb-209 (with the number of atoms given by Pb209_pop), and uses check_decay to determine whether or not each individual atom decays or not. If a Pb-209 atom decays, Pb209_pop is decreased by 1 while Bi209_pop is increased by 1. The new values of Pb209_pop and Bi209_pop is returned.\n",
    "\n",
    "The same is done for update_TlPb. Note that the half-life of Pb-209 atoms is 198 seconds while the half-life of Tl-209 is 132 seconds."
   ]
  },
  {
   "cell_type": "code",
   "execution_count": 4,
   "id": "cc6d7df4",
   "metadata": {},
   "outputs": [],
   "source": [
    "def update_PbBi(t, Pb209_pop, Bi209_pop):\n",
    "    Pb209_tau = 198\n",
    "    decay = 0\n",
    "    for _ in range(Pb209_pop):\n",
    "        if check_decay(t, Pb209_tau) == 1:\n",
    "            decay += 1\n",
    "    Pb209_pop -= decay\n",
    "    Bi209_pop += decay\n",
    "    return Pb209_pop, Bi209_pop\n",
    "\n",
    "def update_TlPb(t, Tl209_pop, Pb209_pop):\n",
    "    Tl209_tau = 132\n",
    "    decay = 0\n",
    "    for _ in range(Tl209_pop):\n",
    "        if check_decay(t,Tl209_tau) == 1:\n",
    "            decay += 1\n",
    "    Tl209_pop -= decay\n",
    "    Pb209_pop += decay\n",
    "    return Tl209_pop, Pb209_pop"
   ]
  },
  {
   "cell_type": "markdown",
   "id": "b9ba966b",
   "metadata": {},
   "source": [
    "These functions should pass the following tests (based on half-lives of Pb and Tl)"
   ]
  },
  {
   "cell_type": "code",
   "execution_count": 5,
   "id": "1395c470",
   "metadata": {},
   "outputs": [],
   "source": [
    "Pb209_pop = 100_000\n",
    "Bi209_pop = 0\n",
    "error = 0.01\n",
    "t = 198*2\n",
    "\n",
    "Pb209_pop, Bi209_pop = update_PbBi(t, Pb209_pop, Bi209_pop)\n",
    "\n",
    "assert abs(Pb209_pop*3 - Bi209_pop)/(Pb209_pop+Bi209_pop) < error \n",
    "## after two half-lives, the ratio between Pb_atoms and Bi atoms should be 1:3"
   ]
  },
  {
   "cell_type": "code",
   "execution_count": 6,
   "id": "1a480bba",
   "metadata": {},
   "outputs": [],
   "source": [
    "Tl209_pop = 100_000\n",
    "Pb209_pop = 0\n",
    "error = 0.01\n",
    "t = 132*3\n",
    "\n",
    "Tl209_pop, Pb209_pop = update_TlPb(t, Tl209_pop, Pb209_pop)\n",
    "\n",
    "assert abs(7*Tl209_pop - Pb209_pop)/(Tl209_pop - Pb209_pop) < error \n",
    "## after three half-lives, the ratio between Tl atoms and Pb atoms should be 1:7"
   ]
  },
  {
   "cell_type": "markdown",
   "id": "8a8f101a",
   "metadata": {},
   "source": [
    "In the following, define two new functions. The first function, decide_Bidecay() uses a randomly generated floating point 𝑥 (using rn.random) to implement the following function\n",
    "\\begin{equation}\n",
    "\\textrm{decide_Bidecay}() = \\left\\lbrace\n",
    "\\begin{matrix}\n",
    "0 \\leq x \\leq 0.0209 & \\textrm{return 'Tl'} \\\\\n",
    "0.0209 < x & \\textrm{return 'Pb'}\n",
    "\\end{matrix}\n",
    "\\right.\n",
    "\\end{equation}\n",
    "The second function, update_BiTlPb(t, Bi213_pop, Tl209_pop, Pb209_pop), which does something similar as update_PbBi and update_TlPb except that after a Bi-213 atom has decided that it'll decay, it'll use decide_Bidecay to decide whether the Bi-213 atoms decays into a Tl-209 atom or a Pb-209 atom.\n",
    "\n",
    "The function update_BiTlPb returns Bi213_pop, Tl209_pop, Pb209_pop in that order.\n",
    "\n",
    "Note that the half-life of Bi-213 atoms is 2760 seconds."
   ]
  },
  {
   "cell_type": "code",
   "execution_count": 7,
   "id": "166e06f9",
   "metadata": {},
   "outputs": [],
   "source": [
    "def decide_Bidecay():\n",
    "    x = rn.random()\n",
    "    p = 0.0209\n",
    "    tau = 2760\n",
    "    if x >= 0 and x <= p:\n",
    "        return 'Tl'\n",
    "    elif x > p:\n",
    "        return 'Pb'\n",
    "    \n",
    "def update_BiTlPb(t, Bi213_pop, Tl209_pop, Pb209_pop):\n",
    "    decayTl = 0\n",
    "    decayPb = 0\n",
    "    for _ in range(Bi213_pop):\n",
    "        if decide_Bidecay() == 'Tl':\n",
    "            decayTl += 1\n",
    "        if decide_Bidecay() == 'Pb':\n",
    "            decayPb += 1\n",
    "    Tl209_pop += decayTl\n",
    "    Pb209_pop += decayPb\n",
    "    Bi213_pop -= 1\n",
    "    return Bi213_pop, Tl209_pop, Pb209_pop"
   ]
  },
  {
   "cell_type": "markdown",
   "id": "b878a27c",
   "metadata": {},
   "source": [
    "It should pass the following tests most of the time"
   ]
  },
  {
   "cell_type": "code",
   "execution_count": 11,
   "id": "f4d4f90c",
   "metadata": {},
   "outputs": [],
   "source": [
    "Bi213_pop = 1_000_000\n",
    "Tl209_pop = 0\n",
    "Pb209_pop = 0\n",
    "total = Bi213_pop + Tl209_pop + Pb209_pop\n",
    "error = 0.01\n",
    "t = 2760\n",
    "\n",
    "Bi213_pop, Tl209_pop, Pb209_pop = update_BiTlPb(t, Bi213_pop, Tl209_pop, Pb209_pop)\n",
    "\n",
    "## after a half-life, Bi213_pop should be halved.\n",
    "assert abs(Bi213_pop - (Tl209_pop + Pb209_pop))/total < error\n",
    "## after a half-life, the ratio between Tl and Pb atoms should be 2.09:97.91\n",
    "decay_pop = Tl209_pop + Pb209_pop\n",
    "assert abs(Tl209_pop*97.91 - Pb209_pop*2.09)/decay_pop < error"
   ]
  },
  {
   "cell_type": "markdown",
   "id": "63f49c92",
   "metadata": {},
   "source": [
    "We finally have all the tools to answer Exercise 10.2. Starting with a sample consisting of 10,000 Bi-213 atoms, simulate the decay of atoms by dividing time into slices of length $\\delta t = 1$ second each and doing the following in order\n",
    "1. Update the number of Bi-209 and Pb-209 atoms using update_PbBi\n",
    "2. Update the number of Pb-209 and Tl-209 atoms using update_TlPb\n",
    "3. Update the number of Bi-213, Tl-209 and Pb-209 atoms using update_BiTlPb\n",
    "\n",
    "Keep track the number of atoms of each of the four isotopes at all times for 20,000 seconds.\n",
    "\n",
    "The final output of this notebook should be a plot showing the four numbers as a function of time."
   ]
  },
  {
   "cell_type": "code",
   "execution_count": 10,
   "id": "70159ad5",
   "metadata": {},
   "outputs": [
    {
     "ename": "ValueError",
     "evalue": "The truth value of an array with more than one element is ambiguous. Use a.any() or a.all()",
     "output_type": "error",
     "traceback": [
      "\u001b[1;31m---------------------------------------------------------------------------\u001b[0m",
      "\u001b[1;31mValueError\u001b[0m                                Traceback (most recent call last)",
      "Input \u001b[1;32mIn [10]\u001b[0m, in \u001b[0;36m<cell line: 14>\u001b[1;34m()\u001b[0m\n\u001b[0;32m     18\u001b[0m     Bi213_list\u001b[38;5;241m.\u001b[39mappend(Bi213_pop)\n\u001b[0;32m     19\u001b[0m     Pb209_pop, Bi209_pop \u001b[38;5;241m=\u001b[39m update_PbBi(t, Pb209_pop, Bi209_pop)\n\u001b[1;32m---> 20\u001b[0m     Tl209_pop, Pb209_pop \u001b[38;5;241m=\u001b[39m \u001b[43mupdate_TlPb\u001b[49m\u001b[43m(\u001b[49m\u001b[43mt\u001b[49m\u001b[43m,\u001b[49m\u001b[43m \u001b[49m\u001b[43mTl209_pop\u001b[49m\u001b[43m,\u001b[49m\u001b[43m \u001b[49m\u001b[43mPb209_pop\u001b[49m\u001b[43m)\u001b[49m\n\u001b[0;32m     21\u001b[0m     Bi213_pop, Tl209_pop, Pb209_pop \u001b[38;5;241m=\u001b[39m update_BiTlPb(t, Bi213_pop, Tl209_pop, Pb209_pop)\n\u001b[0;32m     23\u001b[0m plt\u001b[38;5;241m.\u001b[39mplot(t,Bi209_list,label\u001b[38;5;241m=\u001b[39m\u001b[38;5;124m'\u001b[39m\u001b[38;5;124mBi209\u001b[39m\u001b[38;5;124m'\u001b[39m)\n",
      "Input \u001b[1;32mIn [4]\u001b[0m, in \u001b[0;36mupdate_TlPb\u001b[1;34m(t, Tl209_pop, Pb209_pop)\u001b[0m\n\u001b[0;32m     13\u001b[0m decay \u001b[38;5;241m=\u001b[39m \u001b[38;5;241m0\u001b[39m\n\u001b[0;32m     14\u001b[0m \u001b[38;5;28;01mfor\u001b[39;00m _ \u001b[38;5;129;01min\u001b[39;00m \u001b[38;5;28mrange\u001b[39m(Tl209_pop):\n\u001b[1;32m---> 15\u001b[0m     \u001b[38;5;28;01mif\u001b[39;00m \u001b[43mcheck_decay\u001b[49m\u001b[43m(\u001b[49m\u001b[43mt\u001b[49m\u001b[43m,\u001b[49m\u001b[43mTl209_tau\u001b[49m\u001b[43m)\u001b[49m \u001b[38;5;241m==\u001b[39m \u001b[38;5;241m1\u001b[39m:\n\u001b[0;32m     16\u001b[0m         decay \u001b[38;5;241m+\u001b[39m\u001b[38;5;241m=\u001b[39m \u001b[38;5;241m1\u001b[39m\n\u001b[0;32m     17\u001b[0m Tl209_pop \u001b[38;5;241m-\u001b[39m\u001b[38;5;241m=\u001b[39m decay\n",
      "Input \u001b[1;32mIn [2]\u001b[0m, in \u001b[0;36mcheck_decay\u001b[1;34m(t, tau)\u001b[0m\n\u001b[0;32m      4\u001b[0m \u001b[38;5;28;01mdef\u001b[39;00m \u001b[38;5;21mcheck_decay\u001b[39m(t, tau):\n\u001b[0;32m      5\u001b[0m     x \u001b[38;5;241m=\u001b[39m rn\u001b[38;5;241m.\u001b[39mrandom()\n\u001b[1;32m----> 6\u001b[0m     \u001b[38;5;28;01mif\u001b[39;00m x \u001b[38;5;241m>\u001b[39m\u001b[38;5;241m=\u001b[39m \u001b[38;5;241m0\u001b[39m \u001b[38;5;129;01mand\u001b[39;00m \u001b[43mx\u001b[49m\u001b[43m \u001b[49m\u001b[38;5;241;43m<\u001b[39;49m\u001b[38;5;241;43m=\u001b[39;49m\u001b[43m \u001b[49m\u001b[43mp\u001b[49m\u001b[43m(\u001b[49m\u001b[43mt\u001b[49m\u001b[43m,\u001b[49m\u001b[43mtau\u001b[49m\u001b[43m)\u001b[49m:\n\u001b[0;32m      7\u001b[0m         \u001b[38;5;28;01mreturn\u001b[39;00m \u001b[38;5;241m1\u001b[39m\n\u001b[0;32m      8\u001b[0m     \u001b[38;5;28;01melif\u001b[39;00m x \u001b[38;5;241m>\u001b[39m p(t, tau):\n",
      "\u001b[1;31mValueError\u001b[0m: The truth value of an array with more than one element is ambiguous. Use a.any() or a.all()"
     ]
    }
   ],
   "source": [
    "#WRONG CODE!! Just an attempt. Please help :<\n",
    "Bi213_pop = 10000\n",
    "Bi209_pop = 0\n",
    "Pb209_pop = 0\n",
    "Ti209_pop = 0\n",
    "\n",
    "Bi209_list = []\n",
    "Pb209_list = []\n",
    "Ti209_list = []\n",
    "Bi213_list = []\n",
    "\n",
    "h = 1\n",
    "t = np.arange(0,20_000,h)\n",
    "for ti in t:\n",
    "    Bi209_list.append(Bi209_pop)\n",
    "    Pb209_list.append(Pb209_pop)\n",
    "    Ti209_list.append(Ti209_pop)\n",
    "    Bi213_list.append(Bi213_pop)\n",
    "    Pb209_pop, Bi209_pop = update_PbBi(t, Pb209_pop, Bi209_pop)\n",
    "    Tl209_pop, Pb209_pop = update_TlPb(t, Tl209_pop, Pb209_pop)\n",
    "    Bi213_pop, Tl209_pop, Pb209_pop = update_BiTlPb(t, Bi213_pop, Tl209_pop, Pb209_pop)\n",
    "\n",
    "plt.plot(t,Bi209_list,label='Bi209')\n",
    "plt.plot(t,Pb209_list,label='Pb209')\n",
    "plt.plot(t,Ti209_list,label='Ti209')\n",
    "plt.plot(t,Bi213_list,label='Bi213')\n",
    "plt.legend()\n",
    "plt.xlabel('time(s)')\n",
    "plt.ylabel('Number of atoms')\n",
    "plt.show()"
   ]
  },
  {
   "cell_type": "code",
   "execution_count": null,
   "id": "54268118",
   "metadata": {},
   "outputs": [],
   "source": []
  }
 ],
 "metadata": {
  "kernelspec": {
   "display_name": "Python 3 (ipykernel)",
   "language": "python",
   "name": "python3"
  },
  "language_info": {
   "codemirror_mode": {
    "name": "ipython",
    "version": 3
   },
   "file_extension": ".py",
   "mimetype": "text/x-python",
   "name": "python",
   "nbconvert_exporter": "python",
   "pygments_lexer": "ipython3",
   "version": "3.9.12"
  }
 },
 "nbformat": 4,
 "nbformat_minor": 5
}
