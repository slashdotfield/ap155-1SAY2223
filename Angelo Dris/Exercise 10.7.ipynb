{
 "cells": [
  {
   "cell_type": "code",
   "execution_count": 8,
   "id": "4777a3be",
   "metadata": {},
   "outputs": [],
   "source": [
    "import numpy as np\n",
    "import numpy.random as rn\n",
    "import matplotlib.pyplot as plt"
   ]
  },
  {
   "cell_type": "markdown",
   "id": "9f8cca7e",
   "metadata": {},
   "source": [
    "# Exercise 10.7\n",
    "\n",
    "In this exercise notebook, we shall try to answer Exercise 10.7.\n",
    "\n",
    "First, let us define an indicator function f(x_vec), which calculates\n",
    "\\begin{equation}\n",
    "f(\\vec{x}) = \\left\\lbrace \n",
    "\\begin{matrix}\n",
    "1 & \\sum_i x_i^2 \\leq 1 \\\\\n",
    "0 & \\textrm{otherwise}\n",
    "\\end{matrix}\n",
    "\\right.\n",
    "\\end{equation}\n",
    "where x_vec is a list of numbers with element $\\{ x_i \\}$. This indicator function lets us calculate whether a point is inside a $d$-dimensional sphere or not."
   ]
  },
  {
   "cell_type": "code",
   "execution_count": 9,
   "id": "3a4b73e4",
   "metadata": {},
   "outputs": [],
   "source": [
    "def f(x_vec):\n",
    "    x_vec = np.array(x_vec)\n",
    "    for xi in x_vec:\n",
    "        sum_squares = np.sum([x_vec**2])\n",
    "        if sum_squares <= 1:\n",
    "            return 1\n",
    "        else:\n",
    "            return 0"
   ]
  },
  {
   "cell_type": "markdown",
   "id": "cdb05814",
   "metadata": {},
   "source": [
    "It should pass the following tests"
   ]
  },
  {
   "cell_type": "code",
   "execution_count": 10,
   "id": "8d7794a6",
   "metadata": {},
   "outputs": [],
   "source": [
    "assert f([0,1]) == 1\n",
    "assert f([0,0.5]) == 1\n",
    "assert f([1,1]) == 0"
   ]
  },
  {
   "cell_type": "markdown",
   "id": "e102bacb",
   "metadata": {},
   "source": [
    "Your next task is to define a function, gen_xvec(d) that generates an x_vec with $d$ elements such that each element $x_i$ is chosen as a random number between -1 and 1. \n",
    "\n",
    "A useful function here is rn.rand(d), which generates d random floating points between 0 and 1. You may process this with a shift and a rescaling so that you get the desired result, which is d random floating points between -1 and 1."
   ]
  },
  {
   "cell_type": "code",
   "execution_count": 11,
   "id": "9557bd40",
   "metadata": {},
   "outputs": [],
   "source": [
    "def gen_xvec(d):\n",
    "    x_vec = 2*(rn.random(d) - 0.5)\n",
    "    return x_vec"
   ]
  },
  {
   "cell_type": "code",
   "execution_count": 12,
   "id": "eb4c5a8a",
   "metadata": {},
   "outputs": [
    {
     "name": "stdout",
     "output_type": "stream",
     "text": [
      "[-0.88521653 -0.92647141 -0.22581443]\n",
      "[ 0.41683685 -0.77330253 -0.18163973  0.21027646 -0.18294168]\n",
      "[-0.90419945  0.46613765]\n"
     ]
    }
   ],
   "source": [
    "print(gen_xvec(3)) # should print a list of 3 random numbers between -1 and 1\n",
    "print(gen_xvec(5)) # should print a list of 5 random numbers between -1 and 1\n",
    "print(gen_xvec(2)) # should print a list of 2 random numbers between -1 and 1"
   ]
  },
  {
   "cell_type": "markdown",
   "id": "eb14f19b",
   "metadata": {},
   "source": [
    "Now define a function V_sphere(d, N) which calculates the volume of a $d$-dimensional sphere by sampling the cube enclosing the $d$-dimensional sphere $N$ times, with\n",
    "\\begin{equation}\n",
    "V(d) = \\dfrac{2^d}{N} \\sum_i^N f(\\vec{x}_i)\n",
    "\\end{equation}"
   ]
  },
  {
   "cell_type": "code",
   "execution_count": 13,
   "id": "a9242d44",
   "metadata": {},
   "outputs": [],
   "source": [
    "def V_sphere(d, N):\n",
    "    volume = 0\n",
    "    for i in range(N):\n",
    "        x_vec = gen_xvec(d)\n",
    "        volume += f(x_vec)\n",
    "    volume = (2**d/N) * volume\n",
    "    return volume"
   ]
  },
  {
   "cell_type": "markdown",
   "id": "309e8e10",
   "metadata": {},
   "source": [
    "It should pass the following tests, most of the time"
   ]
  },
  {
   "cell_type": "code",
   "execution_count": 15,
   "id": "81ba8273",
   "metadata": {},
   "outputs": [
    {
     "name": "stdout",
     "output_type": "stream",
     "text": [
      "CPU times: total: 17.5 s\n",
      "Wall time: 17.5 s\n"
     ]
    }
   ],
   "source": [
    "error = 2E-1\n",
    "assert abs(V_sphere(2, 200_000) - 3.142) < error\n",
    "assert abs(V_sphere(3, 200_000) - 4.189) < error\n",
    "assert abs(V_sphere(4, 200_000) - 4.935) < error\n",
    "assert abs(V_sphere(5, 200_000) - 5.264) < error\n",
    "assert abs(V_sphere(6, 200_000) - 5.168) < error\n",
    "assert abs(V_sphere(7, 200_000) - 4.725) < error\n",
    "assert abs(V_sphere(8, 200_000) - 4.059) < error\n",
    "assert abs(V_sphere(9, 200_000) - 3.299) < error\n",
    "assert abs(V_sphere(10, 200_000) - 2.550) < error"
   ]
  },
  {
   "cell_type": "code",
   "execution_count": null,
   "id": "486edcb9",
   "metadata": {},
   "outputs": [],
   "source": []
  }
 ],
 "metadata": {
  "kernelspec": {
   "display_name": "Python 3 (ipykernel)",
   "language": "python",
   "name": "python3"
  },
  "language_info": {
   "codemirror_mode": {
    "name": "ipython",
    "version": 3
   },
   "file_extension": ".py",
   "mimetype": "text/x-python",
   "name": "python",
   "nbconvert_exporter": "python",
   "pygments_lexer": "ipython3",
   "version": "3.9.12"
  }
 },
 "nbformat": 4,
 "nbformat_minor": 5
}
