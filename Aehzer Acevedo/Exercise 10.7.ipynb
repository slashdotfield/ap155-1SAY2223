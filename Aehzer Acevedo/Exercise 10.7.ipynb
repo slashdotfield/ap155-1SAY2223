{
 "cells": [
  {
   "cell_type": "code",
   "execution_count": 1,
   "id": "4777a3be",
   "metadata": {},
   "outputs": [],
   "source": [
    "import numpy as np\n",
    "import numpy.random as rn\n",
    "import matplotlib.pyplot as plt"
   ]
  },
  {
   "cell_type": "markdown",
   "id": "9f8cca7e",
   "metadata": {},
   "source": [
    "# Exercise 10.7\n",
    "\n",
    "In this exercise notebook, we shall try to answer Exercise 10.7.\n",
    "\n",
    "First, let us define an indicator function f(x_vec), which calculates\n",
    "\\begin{equation}\n",
    "f(\\vec{x}) = \\left\\lbrace \n",
    "\\begin{matrix}\n",
    "1 & \\sum_i x_i^2 \\leq 1 \\\\\n",
    "0 & \\textrm{otherwise}\n",
    "\\end{matrix}\n",
    "\\right.\n",
    "\\end{equation}\n",
    "where x_vec is a list of numbers with element $\\{ x_i \\}$. This indicator function lets us calculate whether a point is inside a $d$-dimensional sphere or not."
   ]
  },
  {
   "cell_type": "code",
   "execution_count": 2,
   "id": "3a4b73e4",
   "metadata": {},
   "outputs": [],
   "source": [
    "def f(x_vec):\n",
    "    r = sum((x**2) for x in x_vec)\n",
    "    if r <= 1: \n",
    "        return 1\n",
    "    return 0"
   ]
  },
  {
   "cell_type": "markdown",
   "id": "cdb05814",
   "metadata": {},
   "source": [
    "It should pass the following tests"
   ]
  },
  {
   "cell_type": "code",
   "execution_count": 3,
   "id": "8d7794a6",
   "metadata": {},
   "outputs": [],
   "source": [
    "assert f([0,1]) == 1\n",
    "assert f([0,0.5]) == 1\n",
    "assert f([1,1]) == 0"
   ]
  },
  {
   "cell_type": "markdown",
   "id": "e102bacb",
   "metadata": {},
   "source": [
    "Your next task is to define a function, gen_xvec(d) that generates an x_vec with $d$ elements such that each element $x_i$ is chosen as a random number between -1 and 1. \n",
    "\n",
    "A useful function here is rn.rand(d), which generates d random floating points between 0 and 1. You may process this with a shift and a rescaling so that you get the desired result, which is d random floating points between -1 and 1."
   ]
  },
  {
   "cell_type": "code",
   "execution_count": 4,
   "id": "9557bd40",
   "metadata": {},
   "outputs": [],
   "source": [
    "def gen_xvec(d):\n",
    "    x_vec = (rn.rand(d)*2) -1\n",
    "    return x_vec"
   ]
  },
  {
   "cell_type": "markdown",
   "id": "eb14f19b",
   "metadata": {},
   "source": [
    "Now define a function V_sphere(d, N) which calculates the volume of a $d$-dimensional sphere by sampling the cube enclosing the $d$-dimensional sphere $N$ times, with\n",
    "\\begin{equation}\n",
    "V(d) = \\dfrac{2^d}{N} \\sum_i^N f(\\vec{x}_i)\n",
    "\\end{equation}"
   ]
  },
  {
   "cell_type": "code",
   "execution_count": 5,
   "id": "a9242d44",
   "metadata": {},
   "outputs": [
    {
     "data": {
      "text/plain": [
       "3.28"
      ]
     },
     "execution_count": 5,
     "metadata": {},
     "output_type": "execute_result"
    }
   ],
   "source": [
    "def V_sphere(d, N):\n",
    "    volume = (2**d)*sum(f(gen_xvec(d)) for _ in range(N))/N\n",
    "    return volume\n",
    "V_sphere(2, 100)"
   ]
  },
  {
   "cell_type": "markdown",
   "id": "309e8e10",
   "metadata": {},
   "source": [
    "It should pass the following tests, most of the time"
   ]
  },
  {
   "cell_type": "code",
   "execution_count": 7,
   "id": "81ba8273",
   "metadata": {},
   "outputs": [],
   "source": [
    "error = 2E-1\n",
    "assert abs(V_sphere(2, 200_000) - 3.142) < error\n",
    "assert abs(V_sphere(3, 200_000) - 4.189) < error\n",
    "assert abs(V_sphere(4, 200_000) - 4.935) < error\n",
    "assert abs(V_sphere(5, 200_000) - 5.264) < error\n",
    "assert abs(V_sphere(6, 200_000) - 5.168) < error\n",
    "assert abs(V_sphere(7, 200_000) - 4.725) < error\n",
    "assert abs(V_sphere(8, 200_000) - 4.059) < error\n",
    "assert abs(V_sphere(9, 200_000) - 3.299) < error\n",
    "assert abs(V_sphere(10, 200_000) - 2.550) < error"
   ]
  }
 ],
 "metadata": {
  "kernelspec": {
   "display_name": "Python 3 (ipykernel)",
   "language": "python",
   "name": "python3"
  },
  "language_info": {
   "codemirror_mode": {
    "name": "ipython",
    "version": 3
   },
   "file_extension": ".py",
   "mimetype": "text/x-python",
   "name": "python",
   "nbconvert_exporter": "python",
   "pygments_lexer": "ipython3",
   "version": "3.10.9"
  },
  "vscode": {
   "interpreter": {
    "hash": "3449ca801ceeb5edbf077e0eda34a5db16f4d6ed0dba2f974c2ecb42e8d84bdf"
   }
  }
 },
 "nbformat": 4,
 "nbformat_minor": 5
}
